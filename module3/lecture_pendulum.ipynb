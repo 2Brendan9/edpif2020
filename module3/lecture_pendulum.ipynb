{
 "cells": [
  {
   "cell_type": "markdown",
   "metadata": {},
   "source": [
    "# Pendulum\n",
    "\n",
    "This is an example of using object for simulation\n",
    "\n",
    "* Create an object Pendulum that describes a simple pendulum (length, mass)\n",
    "* Write a method to save the parameters in a json file\n",
    "* Write a method that returns the period for small oscillations\n",
    "* Write a method that calculates the trajectory given initial values\n",
    "* Write a method that plots the trajectory given initial values"
   ]
  },
  {
   "cell_type": "code",
   "execution_count": 11,
   "metadata": {},
   "outputs": [
    {
     "data": {
      "text/plain": [
       "Pendulum(length=1, mass=0.1)"
      ]
     },
     "execution_count": 11,
     "metadata": {},
     "output_type": "execute_result"
    }
   ],
   "source": [
    "import json\n",
    "from math import pi, sqrt\n",
    "\n",
    "g = 9.81\n",
    "\n",
    "class Pendulum(object):\n",
    "    def __init__(self, length, mass):\n",
    "        self.length = length\n",
    "        self.mass = mass\n",
    "        \n",
    "    def __repr__(self):\n",
    "        return f'Pendulum(length={self.length}, mass={self.mass})'\n",
    "    \n",
    "    def period_small_oscillation(self):\n",
    "        return 2*pi*sqrt(self.length/g)\n",
    "    \n",
    "    def save_as_json(self, filename):\n",
    "        dct = {'length':self.length, 'mass':self.mass}\n",
    "        with open(filename, 'w') as f:\n",
    "            json.dump(dct, f)\n",
    "            \n",
    "    def calculate_trajectory(self, initial_position, initial_velocity, t):\n",
    "        pass\n",
    "    \n",
    "    def plot_trajectory(self,  initial_position, initial_velocity, t):\n",
    "        pass\n",
    "\n",
    "def pendulum_from_json(filename):\n",
    "    with open('/tmp/pendum.json') as f:\n",
    "        param = json.load(f)\n",
    "    return Pendulum(**param)\n",
    "            \n",
    "my_pendulum = Pendulum(length=1, mass=.1)\n",
    "my_pendulum"
   ]
  },
  {
   "cell_type": "code",
   "execution_count": 12,
   "metadata": {},
   "outputs": [
    {
     "data": {
      "text/plain": [
       "2.0060666807106475"
      ]
     },
     "execution_count": 12,
     "metadata": {},
     "output_type": "execute_result"
    }
   ],
   "source": [
    "my_pendulum.period_small_oscillation()"
   ]
  },
  {
   "cell_type": "code",
   "execution_count": 13,
   "metadata": {},
   "outputs": [],
   "source": [
    "my_pendulum.save_as_json('/tmp/pendum.json')"
   ]
  },
  {
   "cell_type": "code",
   "execution_count": 14,
   "metadata": {},
   "outputs": [
    {
     "data": {
      "text/plain": [
       "Pendulum(length=1, mass=0.1)"
      ]
     },
     "execution_count": 14,
     "metadata": {},
     "output_type": "execute_result"
    }
   ],
   "source": [
    "pendulum_from_json('/tmp/pendum.json')"
   ]
  },
  {
   "cell_type": "code",
   "execution_count": null,
   "metadata": {},
   "outputs": [],
   "source": [
    "my_pendulum.plot_trajectory(0, 1, np.linspace(0, 1))"
   ]
  }
 ],
 "metadata": {
  "kernelspec": {
   "display_name": "Python 3",
   "language": "python",
   "name": "python3"
  },
  "language_info": {
   "codemirror_mode": {
    "name": "ipython",
    "version": 3
   },
   "file_extension": ".py",
   "mimetype": "text/x-python",
   "name": "python",
   "nbconvert_exporter": "python",
   "pygments_lexer": "ipython3",
   "version": "3.7.4"
  }
 },
 "nbformat": 4,
 "nbformat_minor": 2
}
