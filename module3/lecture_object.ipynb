{
 "cells": [
  {
   "cell_type": "markdown",
   "metadata": {},
   "source": [
    "# Object in Python\n",
    "\n",
    "* Everything is an object\n",
    "* We can create our own objects"
   ]
  },
  {
   "cell_type": "code",
   "execution_count": 1,
   "metadata": {},
   "outputs": [],
   "source": [
    "z = 1 + 2J"
   ]
  },
  {
   "cell_type": "code",
   "execution_count": 3,
   "metadata": {},
   "outputs": [
    {
     "name": "stdout",
     "output_type": "stream",
     "text": [
      "1.0\n",
      "2.0\n"
     ]
    }
   ],
   "source": [
    "print(z.real)\n",
    "print(z.imag)"
   ]
  },
  {
   "cell_type": "code",
   "execution_count": 4,
   "metadata": {},
   "outputs": [
    {
     "data": {
      "text/plain": [
       "(1-2j)"
      ]
     },
     "execution_count": 4,
     "metadata": {},
     "output_type": "execute_result"
    }
   ],
   "source": [
    "z.conjugate()"
   ]
  },
  {
   "cell_type": "code",
   "execution_count": 7,
   "metadata": {},
   "outputs": [
    {
     "data": {
      "text/plain": [
       "502.91326544637604"
      ]
     },
     "execution_count": 7,
     "metadata": {},
     "output_type": "execute_result"
    }
   ],
   "source": [
    "import numpy as np\n",
    "\n",
    "a = np.random.rand(1000)\n",
    "a.sum()"
   ]
  },
  {
   "cell_type": "code",
   "execution_count": 9,
   "metadata": {},
   "outputs": [
    {
     "data": {
      "text/plain": [
       "[1, 3, 4]"
      ]
     },
     "execution_count": 9,
     "metadata": {},
     "output_type": "execute_result"
    }
   ],
   "source": [
    "l = [1, 3]\n",
    "l.append(4)\n",
    "l"
   ]
  },
  {
   "cell_type": "code",
   "execution_count": 158,
   "metadata": {},
   "outputs": [],
   "source": [
    "from math import atan2, sqrt, cos, sin\n",
    "\n",
    "class Complex(object):\n",
    "    def __init__(self, real_part, imaginary_part):\n",
    "        self.re = real_part\n",
    "        self.im = imaginary_part\n",
    "    \n",
    "    def conjugate(self):\n",
    "        new_z = Complex(self.re, -self.im)\n",
    "        return new_z\n",
    "    \n",
    "    def __str__(self):\n",
    "        if self.im>=0:\n",
    "            return f\"{self.re} + {self.im}J\"\n",
    "        else:\n",
    "            return f\"{self.re} - {-self.im}J\"  \n",
    "    \n",
    "    def __repr__(self):\n",
    "        return f'Complex({self.re}, {self.im})'\n",
    "    \n",
    "    def __add__(self, other):\n",
    "        other = convert_to_complex(other)\n",
    "        if isinstance(other, Complex):\n",
    "            return Complex(self.re + other.re, self.im + other.im)\n",
    "        return NotImplemented\n",
    "    \n",
    "    def __radd__(self, other): # other is the lhs\n",
    "#         other = convert_to_complex(other)\n",
    "#         if isinstance(other, Complex):\n",
    "#             return Complex(other.re + self.re , other.im + self.im)\n",
    "#         return NotImplemented\n",
    "#        return self.__add__(other)\n",
    "        return self + other\n",
    "    \n",
    "    def __sub__(self, other):\n",
    "        other = convert_to_complex(other)\n",
    "        if isinstance(other, Complex):\n",
    "            return Complex(self.re - other.re, self.im - other.im)\n",
    "        return NotImplemented\n",
    "    \n",
    "    def __rsub__(self, other):\n",
    "        other = convert_to_complex(other)\n",
    "        if isinstance(other, complex):\n",
    "            return Complex(other.re - self.re, other.im - self.im)\n",
    "        return NotImplemented\n",
    "\n",
    "    @property\n",
    "    def phi(self):\n",
    "        return atan2(self.im, self.re)\n",
    "\n",
    "#     def phi_method(self):\n",
    "#         return atan2(self.im, self.re)\n",
    "#     phi = property(phi_method)\n",
    "    \n",
    "    \n",
    "    @property\n",
    "    def r(self):\n",
    "        return sqrt(self.re**2 + self.im**2)\n",
    "    \n",
    "    # __sub__, __mul__, __truediv__, __pow__\n",
    "    def __mul__(self, other):\n",
    "        other = convert_to_complex(other)\n",
    "        if isinstance(other, Complex):        \n",
    "            return polar_complex(self.r*other.r, self.phi+other.phi)\n",
    "        return NotImplemented\n",
    "\n",
    "    def __eq__(self, other):\n",
    "        other = convert_to_complex(other)\n",
    "        if isinstance(other, Complex):\n",
    "            return (self.re==other.re) and (self.im==other.im)\n",
    "        return NotImplemented\n",
    "    \n",
    "    def __getitem__(self, key):\n",
    "        if key==0:\n",
    "            return self.re\n",
    "        if key==1:\n",
    "            return self.im\n",
    "        raise Exception(f'Key should be 0 or 1 not {key}')\n",
    "        \n",
    "    \n",
    "class PureImaginary(Complex):\n",
    "    def __init__(self, imaginary_part):\n",
    "        self.re = 0\n",
    "        self.im = imaginary_part\n",
    "        \n",
    "    def __str__(self):\n",
    "        return f'{self.im}J'\n",
    "\n",
    "    def __repr__(self):\n",
    "        return f'PureImaginary({self.im})'\n",
    "    \n",
    "    \n",
    "def polar_complex(r, phi):\n",
    "    return Complex(r*cos(phi), r*sin(phi))\n",
    "    \n",
    "def convert_to_complex(x):\n",
    "    if isinstance(x, (int, float)):\n",
    "        x = Complex(x, 0)\n",
    "    return x\n",
    "\n",
    "    \n",
    "z = Complex(1, 2)\n",
    "#z.re = 1\n",
    "#z.im = 2"
   ]
  },
  {
   "cell_type": "code",
   "execution_count": 159,
   "metadata": {},
   "outputs": [
    {
     "name": "stdout",
     "output_type": "stream",
     "text": [
      "0.5000000000000001 + 0.8660254037844386J\n"
     ]
    }
   ],
   "source": [
    "from math import pi\n",
    "print(polar_complex(1, pi/3))\n"
   ]
  },
  {
   "cell_type": "code",
   "execution_count": 160,
   "metadata": {},
   "outputs": [
    {
     "data": {
      "text/plain": [
       "Complex(-3.0, 4.000000000000002)"
      ]
     },
     "execution_count": 160,
     "metadata": {},
     "output_type": "execute_result"
    }
   ],
   "source": [
    "z*z"
   ]
  },
  {
   "cell_type": "code",
   "execution_count": 161,
   "metadata": {},
   "outputs": [
    {
     "data": {
      "text/plain": [
       "PureImaginary(3)"
      ]
     },
     "execution_count": 161,
     "metadata": {},
     "output_type": "execute_result"
    }
   ],
   "source": [
    "z2 = PureImaginary(3)\n",
    "z2"
   ]
  },
  {
   "cell_type": "code",
   "execution_count": 162,
   "metadata": {},
   "outputs": [
    {
     "data": {
      "text/plain": [
       "Complex(-6.0, 3.0000000000000013)"
      ]
     },
     "execution_count": 162,
     "metadata": {},
     "output_type": "execute_result"
    }
   ],
   "source": [
    "z * PureImaginary(3)"
   ]
  },
  {
   "cell_type": "code",
   "execution_count": 163,
   "metadata": {},
   "outputs": [
    {
     "data": {
      "text/plain": [
       "True"
      ]
     },
     "execution_count": 163,
     "metadata": {},
     "output_type": "execute_result"
    }
   ],
   "source": [
    "isinstance(z2, Complex)"
   ]
  },
  {
   "cell_type": "code",
   "execution_count": 167,
   "metadata": {},
   "outputs": [
    {
     "ename": "Exception",
     "evalue": "Key should be 0 or 1 not 3",
     "output_type": "error",
     "traceback": [
      "\u001b[0;31m---------------------------------------------------------------------------\u001b[0m",
      "\u001b[0;31mException\u001b[0m                                 Traceback (most recent call last)",
      "\u001b[0;32m<ipython-input-167-a849b2246650>\u001b[0m in \u001b[0;36m<module>\u001b[0;34m\u001b[0m\n\u001b[0;32m----> 1\u001b[0;31m \u001b[0mz\u001b[0m\u001b[0;34m[\u001b[0m\u001b[0;36m3\u001b[0m\u001b[0;34m]\u001b[0m\u001b[0;34m\u001b[0m\u001b[0;34m\u001b[0m\u001b[0m\n\u001b[0m",
      "\u001b[0;32m<ipython-input-158-7bf47bebad1c>\u001b[0m in \u001b[0;36m__getitem__\u001b[0;34m(self, key)\u001b[0m\n\u001b[1;32m     76\u001b[0m         \u001b[0;32mif\u001b[0m \u001b[0mkey\u001b[0m\u001b[0;34m==\u001b[0m\u001b[0;36m1\u001b[0m\u001b[0;34m:\u001b[0m\u001b[0;34m\u001b[0m\u001b[0;34m\u001b[0m\u001b[0m\n\u001b[1;32m     77\u001b[0m             \u001b[0;32mreturn\u001b[0m \u001b[0mself\u001b[0m\u001b[0;34m.\u001b[0m\u001b[0mim\u001b[0m\u001b[0;34m\u001b[0m\u001b[0;34m\u001b[0m\u001b[0m\n\u001b[0;32m---> 78\u001b[0;31m         \u001b[0;32mraise\u001b[0m \u001b[0mException\u001b[0m\u001b[0;34m(\u001b[0m\u001b[0;34mf'Key should be 0 or 1 not {key}'\u001b[0m\u001b[0;34m)\u001b[0m\u001b[0;34m\u001b[0m\u001b[0;34m\u001b[0m\u001b[0m\n\u001b[0m\u001b[1;32m     79\u001b[0m \u001b[0;34m\u001b[0m\u001b[0m\n\u001b[1;32m     80\u001b[0m \u001b[0;34m\u001b[0m\u001b[0m\n",
      "\u001b[0;31mException\u001b[0m: Key should be 0 or 1 not 3"
     ]
    }
   ],
   "source": [
    "z[3]"
   ]
  },
  {
   "cell_type": "code",
   "execution_count": null,
   "metadata": {},
   "outputs": [],
   "source": []
  },
  {
   "cell_type": "code",
   "execution_count": 117,
   "metadata": {},
   "outputs": [
    {
     "name": "stdout",
     "output_type": "stream",
     "text": [
      "<class '__main__.Complex'>\n"
     ]
    },
    {
     "data": {
      "text/plain": [
       "-2"
      ]
     },
     "execution_count": 117,
     "metadata": {},
     "output_type": "execute_result"
    }
   ],
   "source": [
    "z_conj = z.conjugate()\n",
    "print(type(z_conj))\n",
    "z_conj.im"
   ]
  },
  {
   "cell_type": "code",
   "execution_count": 108,
   "metadata": {},
   "outputs": [
    {
     "name": "stdout",
     "output_type": "stream",
     "text": [
      "1 + 2J\n",
      "1 - 2J\n"
     ]
    }
   ],
   "source": [
    "print(z)\n",
    "print(z_conj)"
   ]
  },
  {
   "cell_type": "code",
   "execution_count": 109,
   "metadata": {},
   "outputs": [
    {
     "data": {
      "text/plain": [
       "{'re': 1, 'im': 2, 'a_new_attribute': 'Hello'}"
      ]
     },
     "execution_count": 109,
     "metadata": {},
     "output_type": "execute_result"
    }
   ],
   "source": [
    "z.a_new_attribute = \"Hello\"\n",
    "z.__dict__"
   ]
  },
  {
   "cell_type": "code",
   "execution_count": 110,
   "metadata": {},
   "outputs": [
    {
     "data": {
      "text/plain": [
       "Complex(1, -2)"
      ]
     },
     "execution_count": 110,
     "metadata": {},
     "output_type": "execute_result"
    }
   ],
   "source": [
    "z.conjugate()"
   ]
  },
  {
   "cell_type": "code",
   "execution_count": 111,
   "metadata": {},
   "outputs": [
    {
     "name": "stdout",
     "output_type": "stream",
     "text": [
      "3 + 10J\n"
     ]
    }
   ],
   "source": [
    "z1 = Complex(1, 4)\n",
    "z2 = Complex(2, 6)\n",
    "\n",
    "print(z1 + z2) # z1.__add__(z2)"
   ]
  },
  {
   "cell_type": "code",
   "execution_count": 112,
   "metadata": {},
   "outputs": [
    {
     "data": {
      "text/plain": [
       "Complex(5, 4)"
      ]
     },
     "execution_count": 112,
     "metadata": {},
     "output_type": "execute_result"
    }
   ],
   "source": [
    "4 + z1"
   ]
  },
  {
   "cell_type": "code",
   "execution_count": 113,
   "metadata": {},
   "outputs": [
    {
     "data": {
      "text/plain": [
       "True"
      ]
     },
     "execution_count": 113,
     "metadata": {},
     "output_type": "execute_result"
    }
   ],
   "source": [
    "isinstance(z, Complex)"
   ]
  },
  {
   "cell_type": "code",
   "execution_count": 114,
   "metadata": {},
   "outputs": [
    {
     "data": {
      "text/plain": [
       "Complex(3, -4)"
      ]
     },
     "execution_count": 114,
     "metadata": {},
     "output_type": "execute_result"
    }
   ],
   "source": [
    "4 - z1"
   ]
  },
  {
   "cell_type": "code",
   "execution_count": 156,
   "metadata": {},
   "outputs": [
    {
     "data": {
      "text/plain": [
       "True"
      ]
     },
     "execution_count": 156,
     "metadata": {},
     "output_type": "execute_result"
    }
   ],
   "source": [
    "z1 = Complex(1, 3)\n",
    "z2 = Complex(1, 3)\n",
    "z1 == z2"
   ]
  },
  {
   "cell_type": "code",
   "execution_count": null,
   "metadata": {},
   "outputs": [],
   "source": []
  },
  {
   "cell_type": "code",
   "execution_count": null,
   "metadata": {},
   "outputs": [],
   "source": []
  },
  {
   "cell_type": "code",
   "execution_count": 132,
   "metadata": {},
   "outputs": [],
   "source": [
    "def multiplication(a, b):\n",
    "    out = a.__mul__(b)\n",
    "    if out!=NotImplemented:\n",
    "        return out\n",
    "    out = b.__rmul__(a)\n",
    "    if out!=NotImplemented:\n",
    "        return out\n",
    "    raise Exception('Cannot multipliy {} by {}'.format(type(a), type(b))\n",
    "                   )\n",
    "    "
   ]
  },
  {
   "cell_type": "code",
   "execution_count": 137,
   "metadata": {},
   "outputs": [
    {
     "data": {
      "text/plain": [
       "Complex(10, 0)"
      ]
     },
     "execution_count": 137,
     "metadata": {},
     "output_type": "execute_result"
    }
   ],
   "source": [
    "multiplication(z, z.conjugate())"
   ]
  },
  {
   "cell_type": "code",
   "execution_count": 156,
   "metadata": {},
   "outputs": [
    {
     "data": {
      "text/plain": [
       "<function __main__.Complex.norm(self)>"
      ]
     },
     "execution_count": 156,
     "metadata": {},
     "output_type": "execute_result"
    }
   ],
   "source": [
    "Complex.norm"
   ]
  },
  {
   "cell_type": "code",
   "execution_count": null,
   "metadata": {},
   "outputs": [],
   "source": []
  },
  {
   "cell_type": "markdown",
   "metadata": {},
   "source": [
    "### Special methods\n",
    "\n",
    "* `__init__`\n",
    "* `__repr__`, `__str__`\n",
    "\n",
    "\n",
    "Unary and binary operator\n",
    "* `__neg__`\n",
    "* `__add__`, `__sub__`, `__mul__`, `__truediv__`, `__mod__`, `__pow__`\n",
    "* `__radd__`, ...\n",
    "* `__eq__` (==), `__ne__` (!=), `__lt__` (<), `__le__` (<=), `__gt__`, `__ge__`\n",
    "* `__or__`, `__and__`, `__xor__`\n",
    "\n",
    "\n",
    "Containers emulation\n",
    "* a[key] => `a.__getitem__(key)`\n",
    "* a[key] = val => `a.__setitem__(key, val)`\n",
    "* del a[key] => `a.__delitem__(key)`\n",
    "* len(a) => `a.__len__()`\n",
    "* for elm in a => `for elm in a.__iter__()`\n",
    "\n",
    "### Attributes and property\n",
    "* Class attributes and object attributes\n",
    "* property\n",
    "\n",
    "### Heritage\n",
    "* isinstance "
   ]
  },
  {
   "cell_type": "code",
   "execution_count": 157,
   "metadata": {},
   "outputs": [
    {
     "data": {
      "text/plain": [
       "5"
      ]
     },
     "execution_count": 157,
     "metadata": {},
     "output_type": "execute_result"
    }
   ],
   "source": [
    "# Container\n",
    "\n",
    "l = [1, 2, 5]\n",
    "l[2]"
   ]
  },
  {
   "cell_type": "code",
   "execution_count": 174,
   "metadata": {},
   "outputs": [
    {
     "data": {
      "text/plain": [
       "1"
      ]
     },
     "execution_count": 174,
     "metadata": {},
     "output_type": "execute_result"
    }
   ],
   "source": [
    "class Test:\n",
    "    y = 3\n",
    "    def __init__(self, x):\n",
    "        self.x = x\n",
    "        \n",
    "    def a_method(self):\n",
    "        print(f'Hello {self.x}')\n",
    "        \n",
    "t = Test(1)\n",
    "t.x"
   ]
  },
  {
   "cell_type": "code",
   "execution_count": 175,
   "metadata": {},
   "outputs": [
    {
     "data": {
      "text/plain": [
       "{'x': 1}"
      ]
     },
     "execution_count": 175,
     "metadata": {},
     "output_type": "execute_result"
    }
   ],
   "source": [
    "t.__dict__"
   ]
  },
  {
   "cell_type": "code",
   "execution_count": 178,
   "metadata": {},
   "outputs": [
    {
     "data": {
      "text/plain": [
       "3"
      ]
     },
     "execution_count": 178,
     "metadata": {},
     "output_type": "execute_result"
    }
   ],
   "source": [
    "t.y # same as Test.y"
   ]
  },
  {
   "cell_type": "code",
   "execution_count": 179,
   "metadata": {},
   "outputs": [
    {
     "data": {
      "text/plain": [
       "{'x': 1, 'y': 'Hello'}"
      ]
     },
     "execution_count": 179,
     "metadata": {},
     "output_type": "execute_result"
    }
   ],
   "source": [
    "t.y = \"Hello\"\n",
    "t.__dict__"
   ]
  },
  {
   "cell_type": "code",
   "execution_count": 180,
   "metadata": {},
   "outputs": [
    {
     "data": {
      "text/plain": [
       "'Hello'"
      ]
     },
     "execution_count": 180,
     "metadata": {},
     "output_type": "execute_result"
    }
   ],
   "source": [
    "t.y"
   ]
  },
  {
   "cell_type": "code",
   "execution_count": 181,
   "metadata": {},
   "outputs": [],
   "source": [
    "class Test:\n",
    "    x = 3\n",
    "    def __init__(self, x=None):\n",
    "        if x is not None:\n",
    "            self.x = x"
   ]
  },
  {
   "cell_type": "code",
   "execution_count": 182,
   "metadata": {},
   "outputs": [
    {
     "data": {
      "text/plain": [
       "3"
      ]
     },
     "execution_count": 182,
     "metadata": {},
     "output_type": "execute_result"
    }
   ],
   "source": [
    "t = Test()\n",
    "t.x"
   ]
  },
  {
   "cell_type": "code",
   "execution_count": 183,
   "metadata": {},
   "outputs": [
    {
     "data": {
      "text/plain": [
       "5"
      ]
     },
     "execution_count": 183,
     "metadata": {},
     "output_type": "execute_result"
    }
   ],
   "source": [
    "t = Test(5)\n",
    "t.x"
   ]
  },
  {
   "cell_type": "code",
   "execution_count": 187,
   "metadata": {},
   "outputs": [
    {
     "name": "stdout",
     "output_type": "stream",
     "text": [
      "[3]\n"
     ]
    }
   ],
   "source": [
    "class Test:\n",
    "#    x = []\n",
    "    def __init__(self):\n",
    "        self.x = []\n",
    "    \n",
    "    def append(self, item):\n",
    "        self.x.append(item)\n",
    "    \n",
    "t = Test()\n",
    "t.append(3)\n",
    "print(t.x)"
   ]
  },
  {
   "cell_type": "code",
   "execution_count": 188,
   "metadata": {},
   "outputs": [
    {
     "name": "stdout",
     "output_type": "stream",
     "text": [
      "['Bonjour']\n"
     ]
    }
   ],
   "source": [
    "t1 = Test()\n",
    "t1.append('Bonjour')\n",
    "print(t1.x)"
   ]
  },
  {
   "cell_type": "code",
   "execution_count": 190,
   "metadata": {},
   "outputs": [],
   "source": [
    "class Test:\n",
    "    list_of_instances = []\n",
    "    def __init__(self, x):\n",
    "        self.x = x\n",
    "        self.list_of_instances.append(self)\n",
    "\n",
    "    def __repr__(self):\n",
    "        return f'Test({self.x})'\n",
    "    \n",
    "t = Test(1)\n",
    "t2 = Test('Bonjour')\n",
    "        "
   ]
  },
  {
   "cell_type": "code",
   "execution_count": 191,
   "metadata": {},
   "outputs": [
    {
     "data": {
      "text/plain": [
       "[Test(1), Test(Bonjour)]"
      ]
     },
     "execution_count": 191,
     "metadata": {},
     "output_type": "execute_result"
    }
   ],
   "source": [
    "Test.list_of_instances"
   ]
  },
  {
   "cell_type": "code",
   "execution_count": null,
   "metadata": {},
   "outputs": [],
   "source": []
  }
 ],
 "metadata": {
  "kernelspec": {
   "display_name": "Python 3",
   "language": "python",
   "name": "python3"
  },
  "language_info": {
   "codemirror_mode": {
    "name": "ipython",
    "version": 3
   },
   "file_extension": ".py",
   "mimetype": "text/x-python",
   "name": "python",
   "nbconvert_exporter": "python",
   "pygments_lexer": "ipython3",
   "version": "3.7.4"
  }
 },
 "nbformat": 4,
 "nbformat_minor": 2
}
