{
 "cells": [
  {
   "cell_type": "code",
   "execution_count": 1,
   "metadata": {},
   "outputs": [],
   "source": [
    "class BipolarCircuit(object):\n",
    "    pass\n",
    "\n",
    "class Combination(BipolarCircuit):\n",
    "    pass\n",
    "\n",
    "class Serial(Combination):\n",
    "    pass\n",
    "\n",
    "# idem for parallel\n",
    "\n",
    "class Device(BipolarCircuit):\n",
    "    pass\n",
    "\n",
    "class Resistor(Device):\n",
    "    pass\n",
    "\n",
    "# idem for capacitor and inductor"
   ]
  },
  {
   "cell_type": "code",
   "execution_count": null,
   "metadata": {},
   "outputs": [],
   "source": [
    "my_circuit = Serial(Parallel(Resistor(10),Capacitor(1E-5),Inductor(15E-6)),\n",
    "                Resistor(5))\n",
    "#or    \n",
    "my_circuit = (Resistor(10)|Capacitor(1E-5)|Inductor(15E-6))+Resistor(5)\n",
    "\n",
    "Tfreq = logspace(3, 7)\n",
    "plt.semilogx(Tfreq, np.abs(my_circuit.impedance(Tfreq)))"
   ]
  }
 ],
 "metadata": {
  "kernelspec": {
   "display_name": "Python 3",
   "language": "python",
   "name": "python3"
  },
  "language_info": {
   "codemirror_mode": {
    "name": "ipython",
    "version": 3
   },
   "file_extension": ".py",
   "mimetype": "text/x-python",
   "name": "python",
   "nbconvert_exporter": "python",
   "pygments_lexer": "ipython3",
   "version": "3.7.4"
  }
 },
 "nbformat": 4,
 "nbformat_minor": 2
}
