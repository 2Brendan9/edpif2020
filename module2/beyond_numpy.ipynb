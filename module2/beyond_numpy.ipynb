{
 "cells": [
  {
   "cell_type": "markdown",
   "metadata": {},
   "source": [
    "## Beyond numpy\n",
    "Some calculation cannot be efficienclty performed with numpy\n",
    "* numpy need a lot of memory\n",
    "* Operation not implemented\n",
    "\n",
    "Example : \n",
    "* Calculation of $\\pi$ (With a very very very slow formula!!!)\n",
    "$$ \\frac\\pi4 = \\sum_i \\frac{(-1)^i}{2i+1} = 1 - \\frac13 + \\frac 15 - \\frac17 + \\ldots $$\n",
    "\n",
    "* Operation similar to cumsum\n",
    "$$ y_n = f(y_{n-1}, x_n) $$"
   ]
  },
  {
   "cell_type": "code",
   "execution_count": 1,
   "metadata": {},
   "outputs": [
    {
     "name": "stdout",
     "output_type": "stream",
     "text": [
      "20.7 ms ± 288 µs per loop (mean ± std. dev. of 7 runs, 10 loops each)\n"
     ]
    }
   ],
   "source": [
    "# Implementation in pure python\n",
    "# numpy\n",
    "import numpy as np\n",
    "N = 100000\n",
    "k = np.arange(N)\n",
    "\n",
    "#4*np.sum((-1)**k/(2*k +1))\n",
    "\n",
    "def calculate_pi_numpy(N):\n",
    "    k = np.arange(N)\n",
    "    sign = 1-2*(k%2)\n",
    "    return 4*np.sum(sign/(2*k +1))\n",
    "\n",
    "\n",
    "%timeit calculate_pi_numpy(1000000)"
   ]
  },
  {
   "cell_type": "code",
   "execution_count": null,
   "metadata": {},
   "outputs": [],
   "source": []
  },
  {
   "cell_type": "code",
   "execution_count": 2,
   "metadata": {},
   "outputs": [
    {
     "name": "stdout",
     "output_type": "stream",
     "text": [
      "115 ms ± 1.54 ms per loop (mean ± std. dev. of 7 runs, 10 loops each)\n"
     ]
    }
   ],
   "source": [
    "def calculate_pi_python(N):\n",
    "    res = 0\n",
    "    sign = 1\n",
    "    for i in range(N):\n",
    "        res += sign/(2*i+1)\n",
    "        sign = -sign        \n",
    "    return 4*res\n",
    "\n",
    "%timeit calculate_pi_python(1000000)"
   ]
  },
  {
   "cell_type": "code",
   "execution_count": null,
   "metadata": {},
   "outputs": [],
   "source": []
  },
  {
   "cell_type": "code",
   "execution_count": null,
   "metadata": {},
   "outputs": [],
   "source": []
  },
  {
   "cell_type": "markdown",
   "metadata": {},
   "source": [
    "## ctypes\n",
    "* Interface between python and shared library (dll, so)\n",
    "* Accelerate your code (this method is not recommended)\n",
    "* Use existing code !!!\n",
    "* Use closed source library\n",
    "\n",
    "No magic : you have to know C and deal with pointer, memory allocation, ..."
   ]
  },
  {
   "cell_type": "raw",
   "metadata": {},
   "source": [
    "#include <stdio.h>\n",
    "#include <stdlib.h>\n",
    "\n",
    "int calc_pi(int N, double * out){\n",
    "    int i;\n",
    "    double sgn = 1;\n",
    "    *out = 0;\n",
    "    for(i=0; i<N; i++){\n",
    "        *out += sgn/(2*i+1);\n",
    "        sgn = -sgn;\n",
    "        }\n",
    "    }\n",
    "\n",
    "// gcc -shared -o libpi.so -fPIC pi.c  -Wno-pointer-to-int-cast"
   ]
  },
  {
   "cell_type": "code",
   "execution_count": 13,
   "metadata": {},
   "outputs": [
    {
     "data": {
      "text/plain": [
       "3.1415916535897743"
      ]
     },
     "execution_count": 13,
     "metadata": {},
     "output_type": "execute_result"
    }
   ],
   "source": [
    "import ctypes\n",
    "lib = ctypes.cdll.LoadLibrary('./libpi.so')\n",
    "\n",
    "# Raw function\n",
    "_calc_pi = lib.calc_pi\n",
    "\n",
    "# Wrapper to be python friendly\n",
    "def calc_pi_ctypes(N):\n",
    "    out = ctypes.c_double(0)\n",
    "    _calc_pi(N, ctypes.byref(out))\n",
    "    return out.value*4\n",
    "\n",
    "calc_pi_ctypes(10**6)"
   ]
  },
  {
   "cell_type": "code",
   "execution_count": 14,
   "metadata": {},
   "outputs": [
    {
     "name": "stdout",
     "output_type": "stream",
     "text": [
      "4.95 ms ± 50.1 µs per loop (mean ± std. dev. of 7 runs, 100 loops each)\n"
     ]
    }
   ],
   "source": [
    "%timeit calc_pi_ctypes(10**6)"
   ]
  },
  {
   "cell_type": "markdown",
   "metadata": {},
   "source": [
    "## Numba \n",
    "Compile your python code for free"
   ]
  },
  {
   "cell_type": "code",
   "execution_count": 11,
   "metadata": {},
   "outputs": [
    {
     "name": "stdout",
     "output_type": "stream",
     "text": [
      "4.8 ms ± 40.8 µs per loop (mean ± std. dev. of 7 runs, 100 loops each)\n"
     ]
    }
   ],
   "source": [
    "import numba\n",
    "\n",
    "def calculate_pi_python(N):\n",
    "    res = 0\n",
    "    sign = 1\n",
    "    for i in range(N):\n",
    "        res += sign/(2*i+1)\n",
    "        sign = -sign        \n",
    "    return 4*res\n",
    "\n",
    "calculate_pi_numba = numba.jit(numba.float64(numba.int32))(calculate_pi_python)\n",
    "\n",
    "%timeit calculate_pi_numba(1000000)\n"
   ]
  },
  {
   "cell_type": "code",
   "execution_count": null,
   "metadata": {},
   "outputs": [],
   "source": [
    "2*x**2 + 3*x +1"
   ]
  }
 ],
 "metadata": {
  "kernelspec": {
   "display_name": "Python 3",
   "language": "python",
   "name": "python3"
  },
  "language_info": {
   "codemirror_mode": {
    "name": "ipython",
    "version": 3
   },
   "file_extension": ".py",
   "mimetype": "text/x-python",
   "name": "python",
   "nbconvert_exporter": "python",
   "pygments_lexer": "ipython3",
   "version": "3.7.4"
  }
 },
 "nbformat": 4,
 "nbformat_minor": 1
}
