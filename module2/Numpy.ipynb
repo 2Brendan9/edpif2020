{
 "cells": [
  {
   "cell_type": "markdown",
   "metadata": {},
   "source": [
    "# Numpy\n",
    "## Examples\n",
    "* arange, linspace\n",
    "* opérations\n",
    "* ufunc\n",
    "* methodes/ numpy functions (max, min, mean, std, sort, ...)\n",
    "* Why numpy? data type"
   ]
  },
  {
   "cell_type": "code",
   "execution_count": 7,
   "metadata": {},
   "outputs": [],
   "source": [
    "import numpy as np"
   ]
  },
  {
   "cell_type": "code",
   "execution_count": 8,
   "metadata": {},
   "outputs": [
    {
     "data": {
      "text/plain": [
       "[1, 2, 4, 'COUCOU']"
      ]
     },
     "execution_count": 8,
     "metadata": {},
     "output_type": "execute_result"
    }
   ],
   "source": [
    "l = [1, 2, 4]\n",
    "l.append('COUCOU')\n",
    "l"
   ]
  },
  {
   "cell_type": "code",
   "execution_count": 10,
   "metadata": {},
   "outputs": [
    {
     "data": {
      "text/plain": [
       "array([1, 2, 4])"
      ]
     },
     "execution_count": 10,
     "metadata": {},
     "output_type": "execute_result"
    }
   ],
   "source": [
    "data = np.array([1, 2, 4])\n",
    "data"
   ]
  },
  {
   "cell_type": "code",
   "execution_count": 11,
   "metadata": {},
   "outputs": [
    {
     "data": {
      "text/plain": [
       "array([1, 2, 4])"
      ]
     },
     "execution_count": 11,
     "metadata": {},
     "output_type": "execute_result"
    }
   ],
   "source": [
    "np.array([1, 2, 4])"
   ]
  },
  {
   "cell_type": "code",
   "execution_count": 12,
   "metadata": {},
   "outputs": [
    {
     "data": {
      "text/plain": [
       "array([ 0,  1,  2,  3,  4,  5,  6,  7,  8,  9, 10, 11, 12, 13, 14, 15, 16,\n",
       "       17, 18, 19, 20, 21, 22, 23, 24, 25, 26, 27, 28, 29, 30, 31, 32, 33,\n",
       "       34, 35, 36, 37, 38, 39, 40, 41, 42, 43, 44, 45, 46, 47, 48, 49, 50,\n",
       "       51, 52, 53, 54, 55, 56, 57, 58, 59, 60, 61, 62, 63, 64, 65, 66, 67,\n",
       "       68, 69, 70, 71, 72, 73, 74, 75, 76, 77, 78, 79, 80, 81, 82, 83, 84,\n",
       "       85, 86, 87, 88, 89, 90, 91, 92, 93, 94, 95, 96, 97, 98, 99])"
      ]
     },
     "execution_count": 12,
     "metadata": {},
     "output_type": "execute_result"
    }
   ],
   "source": [
    "np.arange(100)"
   ]
  },
  {
   "cell_type": "code",
   "execution_count": 14,
   "metadata": {},
   "outputs": [
    {
     "data": {
      "text/plain": [
       "array([0.        , 0.11111111, 0.22222222, 0.33333333, 0.44444444,\n",
       "       0.55555556, 0.66666667, 0.77777778, 0.88888889, 1.        ])"
      ]
     },
     "execution_count": 14,
     "metadata": {},
     "output_type": "execute_result"
    }
   ],
   "source": [
    "np.linspace(start=0, stop=1, num=10)"
   ]
  },
  {
   "cell_type": "code",
   "execution_count": 16,
   "metadata": {},
   "outputs": [],
   "source": [
    "x = np.linspace(start=0, stop=1, num=10, endpoint=False)"
   ]
  },
  {
   "cell_type": "code",
   "execution_count": 18,
   "metadata": {},
   "outputs": [
    {
     "data": {
      "text/plain": [
       "array([1. , 1.2, 1.4, 1.6, 1.8, 2. , 2.2, 2.4, 2.6, 2.8])"
      ]
     },
     "execution_count": 18,
     "metadata": {},
     "output_type": "execute_result"
    }
   ],
   "source": [
    "y = 2*x + 1\n",
    "y"
   ]
  },
  {
   "cell_type": "code",
   "execution_count": 19,
   "metadata": {},
   "outputs": [
    {
     "data": {
      "text/plain": [
       "array([0.        , 0.09983342, 0.19866933, 0.29552021, 0.38941834,\n",
       "       0.47942554, 0.56464247, 0.64421769, 0.71735609, 0.78332691])"
      ]
     },
     "execution_count": 19,
     "metadata": {},
     "output_type": "execute_result"
    }
   ],
   "source": [
    "np.sin(x)"
   ]
  },
  {
   "cell_type": "code",
   "execution_count": 20,
   "metadata": {},
   "outputs": [
    {
     "ename": "TypeError",
     "evalue": "only size-1 arrays can be converted to Python scalars",
     "output_type": "error",
     "traceback": [
      "\u001b[0;31m---------------------------------------------------------------------------\u001b[0m",
      "\u001b[0;31mTypeError\u001b[0m                                 Traceback (most recent call last)",
      "\u001b[0;32m<ipython-input-20-73c024f15472>\u001b[0m in \u001b[0;36m<module>\u001b[0;34m\u001b[0m\n\u001b[1;32m      1\u001b[0m \u001b[0;32mimport\u001b[0m \u001b[0mmath\u001b[0m\u001b[0;34m\u001b[0m\u001b[0;34m\u001b[0m\u001b[0m\n\u001b[1;32m      2\u001b[0m \u001b[0;34m\u001b[0m\u001b[0m\n\u001b[0;32m----> 3\u001b[0;31m \u001b[0mmath\u001b[0m\u001b[0;34m.\u001b[0m\u001b[0msin\u001b[0m\u001b[0;34m(\u001b[0m\u001b[0mx\u001b[0m\u001b[0;34m)\u001b[0m\u001b[0;34m\u001b[0m\u001b[0;34m\u001b[0m\u001b[0m\n\u001b[0m",
      "\u001b[0;31mTypeError\u001b[0m: only size-1 arrays can be converted to Python scalars"
     ]
    }
   ],
   "source": [
    "import math\n",
    "\n",
    "math.sin(x)"
   ]
  },
  {
   "cell_type": "code",
   "execution_count": 23,
   "metadata": {},
   "outputs": [
    {
     "data": {
      "text/plain": [
       "array([  10.        ,   10.98541142,   12.06792641,   13.25711366,\n",
       "         14.56348478,   15.9985872 ,   17.57510625,   19.30697729,\n",
       "         21.20950888,   23.29951811,   25.59547923,   28.11768698,\n",
       "         30.88843596,   33.93221772,   37.2759372 ,   40.94915062,\n",
       "         44.98432669,   49.41713361,   54.28675439,   59.63623317,\n",
       "         65.51285569,   71.9685673 ,   79.06043211,   86.85113738,\n",
       "         95.40954763,  104.81131342,  115.13953993,  126.48552169,\n",
       "        138.94954944,  152.64179672,  167.68329368,  184.20699693,\n",
       "        202.35896477,  222.29964825,  244.20530945,  268.26957953,\n",
       "        294.70517026,  323.74575428,  355.64803062,  390.69399371,\n",
       "        429.19342601,  471.48663635,  517.94746792,  568.9866029 ,\n",
       "        625.05519253,  686.648845  ,  754.31200634,  828.64277285,\n",
       "        910.29817799, 1000.        ])"
      ]
     },
     "execution_count": 23,
     "metadata": {},
     "output_type": "execute_result"
    }
   ],
   "source": [
    "logspace(1, 3)"
   ]
  },
  {
   "cell_type": "code",
   "execution_count": 24,
   "metadata": {},
   "outputs": [
    {
     "data": {
      "text/plain": [
       "array([1.        , 0.99500417, 0.98006658, 0.95533649, 0.92106099,\n",
       "       0.87758256, 0.82533561, 0.76484219, 0.69670671, 0.62160997])"
      ]
     },
     "execution_count": 24,
     "metadata": {},
     "output_type": "execute_result"
    }
   ],
   "source": [
    "np.cos(x)"
   ]
  },
  {
   "cell_type": "code",
   "execution_count": 27,
   "metadata": {},
   "outputs": [
    {
     "data": {
      "text/plain": [
       "array([6.25215038e-05, 1.26538945e-04, 2.49369101e-04, 4.78503047e-04,\n",
       "       8.94026542e-04, 1.62644640e-03, 2.88106287e-03, 4.96923290e-03,\n",
       "       8.34544707e-03, 1.36468840e-02, 2.17290644e-02, 3.36877646e-02,\n",
       "       5.08542200e-02, 7.47490089e-02, 1.06981213e-01, 1.49084754e-01,\n",
       "       2.02293806e-01, 2.67273300e-01, 3.43836679e-01, 4.30697616e-01,\n",
       "       5.25310849e-01, 6.23855359e-01, 7.21398253e-01, 8.12250338e-01,\n",
       "       8.90488575e-01, 9.50583869e-01, 9.88043730e-01, 9.99966681e-01,\n",
       "       9.85413551e-01, 9.45529684e-01, 8.83396030e-01, 8.03635948e-01,\n",
       "       7.11847403e-01, 6.13957193e-01, 5.15600009e-01, 4.21610461e-01,\n",
       "       3.35686192e-01, 2.60243094e-01, 1.96448441e-01, 1.44391490e-01,\n",
       "       1.03337570e-01, 7.20109485e-02, 4.88610116e-02, 3.22812255e-02,\n",
       "       2.07663998e-02, 1.30075662e-02, 7.93331169e-03, 4.71125517e-03,\n",
       "       2.72422123e-03, 1.53381068e-03])"
      ]
     },
     "execution_count": 27,
     "metadata": {},
     "output_type": "execute_result"
    }
   ],
   "source": [
    "def gaussian(x, amplitude, center, sigma):\n",
    "    return amplitude * np.exp(-(x-center)**2/(2*sigma**2))\n",
    "\n",
    "x = np.linspace(-2, 2)\n",
    "gaussian(x, amplitude=1, center=.2, sigma=.5)"
   ]
  },
  {
   "cell_type": "code",
   "execution_count": 33,
   "metadata": {},
   "outputs": [],
   "source": [
    "def scalar_my_abs(x):\n",
    "    if x<0:\n",
    "        return -x\n",
    "    else:\n",
    "        return x\n",
    "    \n",
    "def array_my_abs(x):\n",
    "    N = len(x)\n",
    "    output_array = np.zeros(N)\n",
    "    for i in range(N):\n",
    "        output_array[i] = scalar_my_abs(x[i])\n",
    "    return output_array\n"
   ]
  },
  {
   "cell_type": "code",
   "execution_count": 34,
   "metadata": {},
   "outputs": [
    {
     "data": {
      "text/plain": [
       "array([2.        , 1.91836735, 1.83673469, 1.75510204, 1.67346939,\n",
       "       1.59183673, 1.51020408, 1.42857143, 1.34693878, 1.26530612,\n",
       "       1.18367347, 1.10204082, 1.02040816, 0.93877551, 0.85714286,\n",
       "       0.7755102 , 0.69387755, 0.6122449 , 0.53061224, 0.44897959,\n",
       "       0.36734694, 0.28571429, 0.20408163, 0.12244898, 0.04081633,\n",
       "       0.04081633, 0.12244898, 0.20408163, 0.28571429, 0.36734694,\n",
       "       0.44897959, 0.53061224, 0.6122449 , 0.69387755, 0.7755102 ,\n",
       "       0.85714286, 0.93877551, 1.02040816, 1.10204082, 1.18367347,\n",
       "       1.26530612, 1.34693878, 1.42857143, 1.51020408, 1.59183673,\n",
       "       1.67346939, 1.75510204, 1.83673469, 1.91836735, 2.        ])"
      ]
     },
     "execution_count": 34,
     "metadata": {},
     "output_type": "execute_result"
    }
   ],
   "source": [
    "array_my_abs(x)"
   ]
  },
  {
   "cell_type": "code",
   "execution_count": null,
   "metadata": {},
   "outputs": [],
   "source": []
  },
  {
   "cell_type": "code",
   "execution_count": 35,
   "metadata": {},
   "outputs": [
    {
     "data": {
      "text/plain": [
       "array([0, 1, 2, 3, 4, 5, 6, 7, 8, 9])"
      ]
     },
     "execution_count": 35,
     "metadata": {},
     "output_type": "execute_result"
    }
   ],
   "source": [
    "a = np.arange(10)\n",
    "a"
   ]
  },
  {
   "cell_type": "code",
   "execution_count": 41,
   "metadata": {},
   "outputs": [
    {
     "data": {
      "text/plain": [
       "array([ 0,  1, 45,  3,  4,  5,  6,  7,  8,  9])"
      ]
     },
     "execution_count": 41,
     "metadata": {},
     "output_type": "execute_result"
    }
   ],
   "source": [
    "a[2] = 45.85\n",
    "a"
   ]
  },
  {
   "cell_type": "code",
   "execution_count": 42,
   "metadata": {},
   "outputs": [
    {
     "ename": "TypeError",
     "evalue": "can't convert complex to int",
     "output_type": "error",
     "traceback": [
      "\u001b[0;31m---------------------------------------------------------------------------\u001b[0m",
      "\u001b[0;31mTypeError\u001b[0m                                 Traceback (most recent call last)",
      "\u001b[0;32m<ipython-input-42-8cd1c53e4004>\u001b[0m in \u001b[0;36m<module>\u001b[0;34m\u001b[0m\n\u001b[0;32m----> 1\u001b[0;31m \u001b[0ma\u001b[0m\u001b[0;34m[\u001b[0m\u001b[0;36m2\u001b[0m\u001b[0;34m]\u001b[0m \u001b[0;34m=\u001b[0m \u001b[0;36m45.85\u001b[0m \u001b[0;34m+\u001b[0m \u001b[0;36m2J\u001b[0m\u001b[0;34m\u001b[0m\u001b[0;34m\u001b[0m\u001b[0m\n\u001b[0m",
      "\u001b[0;31mTypeError\u001b[0m: can't convert complex to int"
     ]
    }
   ],
   "source": [
    "a[2] = 45.85 + 2J"
   ]
  },
  {
   "cell_type": "code",
   "execution_count": null,
   "metadata": {},
   "outputs": [],
   "source": []
  },
  {
   "cell_type": "code",
   "execution_count": 43,
   "metadata": {},
   "outputs": [
    {
     "ename": "ValueError",
     "evalue": "operands could not be broadcast together with shapes (11,) (21,) ",
     "output_type": "error",
     "traceback": [
      "\u001b[0;31m---------------------------------------------------------------------------\u001b[0m",
      "\u001b[0;31mValueError\u001b[0m                                Traceback (most recent call last)",
      "\u001b[0;32m<ipython-input-43-355d9d41c348>\u001b[0m in \u001b[0;36m<module>\u001b[0;34m\u001b[0m\n\u001b[1;32m      2\u001b[0m \u001b[0my\u001b[0m \u001b[0;34m=\u001b[0m \u001b[0mnp\u001b[0m\u001b[0;34m.\u001b[0m\u001b[0mlinspace\u001b[0m\u001b[0;34m(\u001b[0m\u001b[0;36m0\u001b[0m\u001b[0;34m,\u001b[0m \u001b[0;36m1\u001b[0m\u001b[0;34m,\u001b[0m \u001b[0;36m21\u001b[0m\u001b[0;34m)\u001b[0m\u001b[0;34m\u001b[0m\u001b[0;34m\u001b[0m\u001b[0m\n\u001b[1;32m      3\u001b[0m \u001b[0;34m\u001b[0m\u001b[0m\n\u001b[0;32m----> 4\u001b[0;31m \u001b[0mx\u001b[0m \u001b[0;34m+\u001b[0m \u001b[0my\u001b[0m\u001b[0;34m\u001b[0m\u001b[0;34m\u001b[0m\u001b[0m\n\u001b[0m",
      "\u001b[0;31mValueError\u001b[0m: operands could not be broadcast together with shapes (11,) (21,) "
     ]
    }
   ],
   "source": [
    "x = np.linspace(0, 1, 11)\n",
    "y = np.linspace(0, 1, 21)\n",
    "\n",
    "x + y"
   ]
  },
  {
   "cell_type": "code",
   "execution_count": 44,
   "metadata": {},
   "outputs": [
    {
     "data": {
      "text/plain": [
       "5.500000000000001"
      ]
     },
     "execution_count": 44,
     "metadata": {},
     "output_type": "execute_result"
    }
   ],
   "source": [
    "np.sum(x)"
   ]
  },
  {
   "cell_type": "code",
   "execution_count": 45,
   "metadata": {},
   "outputs": [
    {
     "data": {
      "text/plain": [
       "5.500000000000001"
      ]
     },
     "execution_count": 45,
     "metadata": {},
     "output_type": "execute_result"
    }
   ],
   "source": [
    "x.sum()"
   ]
  },
  {
   "cell_type": "code",
   "execution_count": 50,
   "metadata": {},
   "outputs": [
    {
     "name": "stdout",
     "output_type": "stream",
     "text": [
      "8.723659072895629e-08\n",
      "0.9999997803900368\n",
      "0.49991615966717146\n",
      "0.08330616568401443\n",
      "0.28862807501006277\n"
     ]
    }
   ],
   "source": [
    "x = np.random.rand(10000000) # between 0 and 1\n",
    "\n",
    "print(x.min())\n",
    "print(x.max())\n",
    "print(x.mean())\n",
    "print(x.var())\n",
    "print(x.std())"
   ]
  },
  {
   "cell_type": "code",
   "execution_count": null,
   "metadata": {},
   "outputs": [],
   "source": []
  },
  {
   "cell_type": "code",
   "execution_count": 55,
   "metadata": {},
   "outputs": [
    {
     "data": {
      "text/plain": [
       "dtype('complex128')"
      ]
     },
     "execution_count": 55,
     "metadata": {},
     "output_type": "execute_result"
    }
   ],
   "source": [
    "a = np.array([1, 2, 4, 1], dtype='complex')\n",
    "a.dtype"
   ]
  },
  {
   "cell_type": "code",
   "execution_count": 58,
   "metadata": {},
   "outputs": [
    {
     "data": {
      "text/plain": [
       "array([0.+0.j, 0.+0.j, 0.+0.j, 0.+0.j, 0.+0.j, 0.+0.j, 0.+0.j, 0.+0.j,\n",
       "       0.+0.j, 0.+0.j, 0.+0.j, 0.+0.j, 0.+0.j, 0.+0.j, 0.+0.j, 0.+0.j,\n",
       "       0.+0.j, 0.+0.j, 0.+0.j, 0.+0.j, 0.+0.j, 0.+0.j, 0.+0.j, 0.+0.j,\n",
       "       0.+0.j, 0.+0.j, 0.+0.j, 0.+0.j, 0.+0.j, 0.+0.j, 0.+0.j, 0.+0.j,\n",
       "       0.+0.j, 0.+0.j, 0.+0.j, 0.+0.j, 0.+0.j, 0.+0.j, 0.+0.j, 0.+0.j,\n",
       "       0.+0.j, 0.+0.j, 0.+0.j, 0.+0.j, 0.+0.j, 0.+0.j, 0.+0.j, 0.+0.j,\n",
       "       0.+0.j, 0.+0.j, 0.+0.j, 0.+0.j, 0.+0.j, 0.+0.j, 0.+0.j, 0.+0.j,\n",
       "       0.+0.j, 0.+0.j, 0.+0.j, 0.+0.j, 0.+0.j, 0.+0.j, 0.+0.j, 0.+0.j,\n",
       "       0.+0.j, 0.+0.j, 0.+0.j, 0.+0.j, 0.+0.j, 0.+0.j, 0.+0.j, 0.+0.j,\n",
       "       0.+0.j, 0.+0.j, 0.+0.j, 0.+0.j, 0.+0.j, 0.+0.j, 0.+0.j, 0.+0.j,\n",
       "       0.+0.j, 0.+0.j, 0.+0.j, 0.+0.j, 0.+0.j, 0.+0.j, 0.+0.j, 0.+0.j,\n",
       "       0.+0.j, 0.+0.j, 0.+0.j, 0.+0.j, 0.+0.j, 0.+0.j, 0.+0.j, 0.+0.j,\n",
       "       0.+0.j, 0.+0.j, 0.+0.j, 0.+0.j])"
      ]
     },
     "execution_count": 58,
     "metadata": {},
     "output_type": "execute_result"
    }
   ],
   "source": [
    "np.zeros(100, dtype='complex')"
   ]
  },
  {
   "cell_type": "code",
   "execution_count": null,
   "metadata": {},
   "outputs": [],
   "source": []
  },
  {
   "cell_type": "code",
   "execution_count": null,
   "metadata": {},
   "outputs": [],
   "source": []
  },
  {
   "cell_type": "markdown",
   "metadata": {},
   "source": [
    "### Indexing arrays"
   ]
  },
  {
   "cell_type": "code",
   "execution_count": 59,
   "metadata": {},
   "outputs": [
    {
     "data": {
      "text/plain": [
       "array([0.        , 0.02040816, 0.04081633, 0.06122449, 0.08163265,\n",
       "       0.10204082, 0.12244898, 0.14285714, 0.16326531, 0.18367347,\n",
       "       0.20408163, 0.2244898 , 0.24489796, 0.26530612, 0.28571429,\n",
       "       0.30612245, 0.32653061, 0.34693878, 0.36734694, 0.3877551 ,\n",
       "       0.40816327, 0.42857143, 0.44897959, 0.46938776, 0.48979592,\n",
       "       0.51020408, 0.53061224, 0.55102041, 0.57142857, 0.59183673,\n",
       "       0.6122449 , 0.63265306, 0.65306122, 0.67346939, 0.69387755,\n",
       "       0.71428571, 0.73469388, 0.75510204, 0.7755102 , 0.79591837,\n",
       "       0.81632653, 0.83673469, 0.85714286, 0.87755102, 0.89795918,\n",
       "       0.91836735, 0.93877551, 0.95918367, 0.97959184, 1.        ])"
      ]
     },
     "execution_count": 59,
     "metadata": {},
     "output_type": "execute_result"
    }
   ],
   "source": [
    "x = linspace(0, 1)\n",
    "x"
   ]
  },
  {
   "cell_type": "code",
   "execution_count": 61,
   "metadata": {},
   "outputs": [
    {
     "data": {
      "text/plain": [
       "0.02040816326530612"
      ]
     },
     "execution_count": 61,
     "metadata": {},
     "output_type": "execute_result"
    }
   ],
   "source": [
    "x[1]"
   ]
  },
  {
   "cell_type": "code",
   "execution_count": 63,
   "metadata": {},
   "outputs": [
    {
     "data": {
      "text/plain": [
       "1.0"
      ]
     },
     "execution_count": 63,
     "metadata": {},
     "output_type": "execute_result"
    }
   ],
   "source": [
    "x[-1] # same as x[len(X)-1] "
   ]
  },
  {
   "cell_type": "code",
   "execution_count": 67,
   "metadata": {},
   "outputs": [
    {
     "data": {
      "text/plain": [
       "array([0.04081633, 0.06122449, 0.08163265, 0.10204082, 0.12244898,\n",
       "       0.14285714, 0.16326531, 0.18367347, 0.20408163, 0.2244898 ,\n",
       "       0.24489796, 0.26530612, 0.28571429, 0.30612245, 0.32653061,\n",
       "       0.34693878, 0.36734694, 0.3877551 , 0.40816327, 0.42857143,\n",
       "       0.44897959, 0.46938776, 0.48979592, 0.51020408, 0.53061224,\n",
       "       0.55102041, 0.57142857, 0.59183673, 0.6122449 , 0.63265306,\n",
       "       0.65306122, 0.67346939, 0.69387755, 0.71428571, 0.73469388,\n",
       "       0.75510204, 0.7755102 , 0.79591837, 0.81632653, 0.83673469,\n",
       "       0.85714286, 0.87755102, 0.89795918, 0.91836735, 0.93877551,\n",
       "       0.95918367, 0.97959184])"
      ]
     },
     "execution_count": 67,
     "metadata": {},
     "output_type": "execute_result"
    }
   ],
   "source": [
    "x[2:-1] # size = len(X) -1 -2 "
   ]
  },
  {
   "cell_type": "code",
   "execution_count": 68,
   "metadata": {},
   "outputs": [
    {
     "data": {
      "text/plain": [
       "array([0.        , 0.02040816, 0.04081633, 0.06122449, 0.08163265,\n",
       "       0.10204082, 0.12244898, 0.14285714, 0.16326531, 0.18367347,\n",
       "       0.20408163, 0.2244898 , 0.24489796, 0.26530612, 0.28571429,\n",
       "       0.30612245, 0.32653061, 0.34693878, 0.36734694, 0.3877551 ,\n",
       "       0.40816327, 0.42857143, 0.44897959, 0.46938776, 0.48979592,\n",
       "       0.51020408, 0.53061224, 0.55102041, 0.57142857, 0.59183673,\n",
       "       0.6122449 , 0.63265306, 0.65306122, 0.67346939, 0.69387755,\n",
       "       0.71428571, 0.73469388, 0.75510204, 0.7755102 , 0.79591837,\n",
       "       0.81632653, 0.83673469, 0.85714286, 0.87755102, 0.89795918,\n",
       "       0.91836735, 0.93877551, 0.95918367, 0.97959184, 3.        ])"
      ]
     },
     "execution_count": 68,
     "metadata": {},
     "output_type": "execute_result"
    }
   ],
   "source": [
    "x[-1] = 3\n",
    "x"
   ]
  },
  {
   "cell_type": "code",
   "execution_count": 69,
   "metadata": {},
   "outputs": [
    {
     "data": {
      "text/plain": [
       "array([0.        , 0.02040816, 0.1       , 0.1       , 0.1       ,\n",
       "       0.1       , 0.1       , 0.1       , 0.1       , 0.1       ,\n",
       "       0.1       , 0.1       , 0.1       , 0.1       , 0.1       ,\n",
       "       0.1       , 0.1       , 0.1       , 0.1       , 0.1       ,\n",
       "       0.1       , 0.1       , 0.1       , 0.1       , 0.1       ,\n",
       "       0.1       , 0.1       , 0.1       , 0.1       , 0.1       ,\n",
       "       0.1       , 0.1       , 0.1       , 0.1       , 0.1       ,\n",
       "       0.1       , 0.1       , 0.1       , 0.1       , 0.1       ,\n",
       "       0.1       , 0.1       , 0.1       , 0.1       , 0.1       ,\n",
       "       0.1       , 0.1       , 0.1       , 0.1       , 3.        ])"
      ]
     },
     "execution_count": 69,
     "metadata": {},
     "output_type": "execute_result"
    }
   ],
   "source": [
    "x[2:-1] = 0.1\n",
    "x"
   ]
  },
  {
   "cell_type": "code",
   "execution_count": 71,
   "metadata": {},
   "outputs": [
    {
     "data": {
      "text/plain": [
       "array([0.        , 0.02040816, 0.55267224, 0.2941278 , 0.46719123,\n",
       "       0.8904504 , 0.57837322, 0.42808793, 0.81743781, 0.94668778,\n",
       "       0.71314724, 0.34649481, 0.0631918 , 0.21156901, 0.22744893,\n",
       "       0.94223491, 0.56369283, 0.03294558, 0.45286479, 0.55248285,\n",
       "       0.27146329, 0.32379079, 0.05907737, 0.51856013, 0.06320139,\n",
       "       0.71492795, 0.22636972, 0.88448972, 0.25148067, 0.44873571,\n",
       "       0.04151731, 0.66429204, 0.51343084, 0.69333545, 0.58486345,\n",
       "       0.56032919, 0.48403237, 0.45860245, 0.82392492, 0.84669468,\n",
       "       0.17779574, 0.28887085, 0.3019318 , 0.35962631, 0.07427112,\n",
       "       0.51628763, 0.53587647, 0.62678374, 0.5545777 , 3.        ])"
      ]
     },
     "execution_count": 71,
     "metadata": {},
     "output_type": "execute_result"
    }
   ],
   "source": [
    "x[2:-1] = np.random.rand(len(x)-1-2)\n",
    "x"
   ]
  },
  {
   "cell_type": "code",
   "execution_count": 72,
   "metadata": {},
   "outputs": [
    {
     "data": {
      "text/plain": [
       "array([0.02040816, 0.8904504 , 0.55267224])"
      ]
     },
     "execution_count": 72,
     "metadata": {},
     "output_type": "execute_result"
    }
   ],
   "source": [
    "indices = np.array([1, 5, 2])\n",
    "x[indices] # x[indices[j]] "
   ]
  },
  {
   "cell_type": "code",
   "execution_count": 74,
   "metadata": {},
   "outputs": [
    {
     "name": "stdout",
     "output_type": "stream",
     "text": [
      "[0.89975413 0.39992323 0.70029266 0.26464313 0.41646981 0.96078393\n",
      " 0.09479356 0.22530424 0.6640189  0.06383345]\n",
      "[9 6 7 3 1 4 8 2 0 5]\n",
      "0.0638334454077617\n"
     ]
    }
   ],
   "source": [
    "x = np.random.rand(10)\n",
    "print(x)\n",
    "k = x.argsort()\n",
    "print(k)\n",
    "print(x[k[0]])"
   ]
  },
  {
   "cell_type": "code",
   "execution_count": 75,
   "metadata": {},
   "outputs": [
    {
     "name": "stdout",
     "output_type": "stream",
     "text": [
      "[0.06383345 0.09479356 0.22530424 0.26464313 0.39992323 0.41646981\n",
      " 0.6640189  0.70029266 0.89975413 0.96078393]\n"
     ]
    }
   ],
   "source": [
    "print(x[k])"
   ]
  },
  {
   "cell_type": "code",
   "execution_count": 76,
   "metadata": {},
   "outputs": [
    {
     "data": {
      "text/plain": [
       "array([0. , 0.5, 1. , 1.5, 2. ])"
      ]
     },
     "execution_count": 76,
     "metadata": {},
     "output_type": "execute_result"
    }
   ],
   "source": [
    "linspace(start=0, stop=2, num=5)\n",
    "# start + (stop-start)/(num-1)*i for i in range(num)"
   ]
  },
  {
   "cell_type": "code",
   "execution_count": null,
   "metadata": {},
   "outputs": [],
   "source": []
  },
  {
   "cell_type": "code",
   "execution_count": 79,
   "metadata": {},
   "outputs": [
    {
     "name": "stdout",
     "output_type": "stream",
     "text": [
      "[1 1 2 1 4]\n",
      "[6 7 2 8 4]\n"
     ]
    }
   ],
   "source": [
    "x = np.arange(5)\n",
    "mask = np.array([True, True, False, True, False])\n",
    "\n",
    "x[mask]\n",
    "x[mask] = 1\n",
    "print(x)\n",
    "x[mask] = np.array([6, 7, 8])\n",
    "print(x)"
   ]
  },
  {
   "cell_type": "code",
   "execution_count": 82,
   "metadata": {},
   "outputs": [
    {
     "name": "stdout",
     "output_type": "stream",
     "text": [
      "[ 0.28250342  0.45662651 -0.22633228 -0.30394271 -0.0153061   0.10791063\n",
      " -0.11257571  0.27519945 -0.36548304 -0.22713978  0.33924257  0.42390717\n",
      " -0.03882451 -0.1885931  -0.42923521 -0.23275388  0.25167815  0.23645163\n",
      " -0.08557938 -0.4239232 ]\n",
      "[0.28250342 0.45662651 0.22633228 0.30394271 0.0153061  0.10791063\n",
      " 0.11257571 0.27519945 0.36548304 0.22713978 0.33924257 0.42390717\n",
      " 0.03882451 0.1885931  0.42923521 0.23275388 0.25167815 0.23645163\n",
      " 0.08557938 0.4239232 ]\n"
     ]
    }
   ],
   "source": [
    "x = np.random.rand(20) - .5\n",
    "print(x)\n",
    "\n",
    "x[x<0] = -x[x<0]\n",
    "print(x)"
   ]
  },
  {
   "cell_type": "code",
   "execution_count": null,
   "metadata": {},
   "outputs": [],
   "source": []
  },
  {
   "cell_type": "markdown",
   "metadata": {},
   "source": [
    "## Tableaux 2D (et nD)\n",
    "* meshgrid, indices, fromfunction\n",
    "* methodes/numpy functions\n",
    "* linear algebra, matrices"
   ]
  },
  {
   "cell_type": "code",
   "execution_count": 89,
   "metadata": {},
   "outputs": [
    {
     "name": "stdout",
     "output_type": "stream",
     "text": [
      "[[ 1  2  4]\n",
      " [ 1  5  6]\n",
      " [ 2 13  7]\n",
      " [ 2  0  7]]\n"
     ]
    },
    {
     "data": {
      "text/plain": [
       "(4, 3)"
      ]
     },
     "execution_count": 89,
     "metadata": {},
     "output_type": "execute_result"
    }
   ],
   "source": [
    "a = np.array([[1, 2, 4], [1, 5, 6], [2, 13, 7], [2, 0, 7]])\n",
    "print(a)\n",
    "a.shape"
   ]
  },
  {
   "cell_type": "code",
   "execution_count": 92,
   "metadata": {},
   "outputs": [
    {
     "data": {
      "text/plain": [
       "array([[2, 4],\n",
       "       [5, 6]])"
      ]
     },
     "execution_count": 92,
     "metadata": {},
     "output_type": "execute_result"
    }
   ],
   "source": [
    "a[0:2, 1:]"
   ]
  },
  {
   "cell_type": "code",
   "execution_count": 94,
   "metadata": {},
   "outputs": [
    {
     "data": {
      "text/plain": [
       "array([ 2,  5, 13,  0])"
      ]
     },
     "execution_count": 94,
     "metadata": {},
     "output_type": "execute_result"
    }
   ],
   "source": [
    "a[:, 1]"
   ]
  },
  {
   "cell_type": "code",
   "execution_count": 96,
   "metadata": {},
   "outputs": [
    {
     "data": {
      "text/plain": [
       "array([[0., 0., 0.],\n",
       "       [0., 0., 0.],\n",
       "       [0., 0., 0.],\n",
       "       [0., 0., 0.]])"
      ]
     },
     "execution_count": 96,
     "metadata": {},
     "output_type": "execute_result"
    }
   ],
   "source": [
    "np.zeros((4, 3))"
   ]
  },
  {
   "cell_type": "code",
   "execution_count": 98,
   "metadata": {},
   "outputs": [
    {
     "data": {
      "text/plain": [
       "array([[0.59654795, 0.43935545, 0.68100065],\n",
       "       [0.33905381, 0.94963542, 0.60802597],\n",
       "       [0.8637304 , 0.90510887, 0.74126709],\n",
       "       [0.9127427 , 0.67825961, 0.76052289]])"
      ]
     },
     "execution_count": 98,
     "metadata": {},
     "output_type": "execute_result"
    }
   ],
   "source": [
    "np.random.rand(4, 3)"
   ]
  },
  {
   "cell_type": "code",
   "execution_count": 103,
   "metadata": {},
   "outputs": [
    {
     "name": "stdout",
     "output_type": "stream",
     "text": [
      "[[-0.08021635  1.37551516 -0.64918992]\n",
      " [ 0.1836514  -0.95725155 -0.21368976]\n",
      " [-0.46868065 -0.27442198 -0.63140443]\n",
      " [ 0.30383456  1.06012571 -0.19392573]]\n"
     ]
    }
   ],
   "source": [
    "x = np.random.normal(size=(4, 3))\n",
    "print(x)"
   ]
  },
  {
   "cell_type": "code",
   "execution_count": 104,
   "metadata": {},
   "outputs": [
    {
     "data": {
      "text/plain": [
       "array([[-0.24056305,  3.73202347, -1.90292115],\n",
       "       [ 0.54992358, -2.7321153 , -0.6394467 ],\n",
       "       [-1.38907091, -0.81983455, -1.85308785],\n",
       "       [ 0.90685043,  2.99266836, -0.58056398]])"
      ]
     },
     "execution_count": 104,
     "metadata": {},
     "output_type": "execute_result"
    }
   ],
   "source": [
    "2*x + np.sin(x)"
   ]
  },
  {
   "cell_type": "code",
   "execution_count": 106,
   "metadata": {},
   "outputs": [
    {
     "data": {
      "text/plain": [
       "array([-0.64918992, -0.95725155, -0.63140443, -0.19392573])"
      ]
     },
     "execution_count": 106,
     "metadata": {},
     "output_type": "execute_result"
    }
   ],
   "source": [
    "x.min(axis=1)"
   ]
  },
  {
   "cell_type": "code",
   "execution_count": 107,
   "metadata": {},
   "outputs": [
    {
     "name": "stdout",
     "output_type": "stream",
     "text": [
      "[0.   0.25 0.5  0.75 1.  ]\n",
      "[10.         13.33333333 16.66666667 20.        ]\n"
     ]
    }
   ],
   "source": [
    "x = np.linspace(0, 1, 5)\n",
    "y = np.linspace(10, 20, 4)\n",
    "print(x)\n",
    "print(y)"
   ]
  },
  {
   "cell_type": "code",
   "execution_count": 108,
   "metadata": {},
   "outputs": [
    {
     "data": {
      "text/plain": [
       "[array([[0.  , 0.25, 0.5 , 0.75, 1.  ],\n",
       "        [0.  , 0.25, 0.5 , 0.75, 1.  ],\n",
       "        [0.  , 0.25, 0.5 , 0.75, 1.  ],\n",
       "        [0.  , 0.25, 0.5 , 0.75, 1.  ]]),\n",
       " array([[10.        , 10.        , 10.        , 10.        , 10.        ],\n",
       "        [13.33333333, 13.33333333, 13.33333333, 13.33333333, 13.33333333],\n",
       "        [16.66666667, 16.66666667, 16.66666667, 16.66666667, 16.66666667],\n",
       "        [20.        , 20.        , 20.        , 20.        , 20.        ]])]"
      ]
     },
     "execution_count": 108,
     "metadata": {},
     "output_type": "execute_result"
    }
   ],
   "source": [
    "meshgrid(x, y)"
   ]
  },
  {
   "cell_type": "code",
   "execution_count": null,
   "metadata": {},
   "outputs": [],
   "source": []
  },
  {
   "cell_type": "markdown",
   "metadata": {},
   "source": [
    "## Matrix\n"
   ]
  },
  {
   "cell_type": "code",
   "execution_count": 114,
   "metadata": {},
   "outputs": [
    {
     "data": {
      "text/plain": [
       "array([[0.22724476, 0.0097205 , 0.22464135],\n",
       "       [0.10481842, 0.284264  , 0.3380781 ],\n",
       "       [0.65936284, 0.17733599, 0.45179885],\n",
       "       [0.88789976, 0.08387878, 0.20471588]])"
      ]
     },
     "execution_count": 114,
     "metadata": {},
     "output_type": "execute_result"
    }
   ],
   "source": [
    "\n",
    "a = np.random.rand(4, 3)\n",
    "a*a # not the matrix product. product of each item"
   ]
  },
  {
   "cell_type": "code",
   "execution_count": 111,
   "metadata": {},
   "outputs": [
    {
     "data": {
      "text/plain": [
       "array([[0.66892901, 0.6059491 , 0.7175283 , 0.36405083],\n",
       "       [1.17910382, 0.64278252, 1.11221531, 0.52566966],\n",
       "       [0.25385315, 0.25478038, 0.28433385, 0.16017147],\n",
       "       [0.80389113, 0.43259556, 0.72466159, 0.20305528]])"
      ]
     },
     "execution_count": 111,
     "metadata": {},
     "output_type": "execute_result"
    }
   ],
   "source": [
    "a = np.random.rand(4, 3)\n",
    "b = np.random.rand(3, 4)\n",
    "\n",
    "np.dot(a, b)"
   ]
  },
  {
   "cell_type": "code",
   "execution_count": null,
   "metadata": {},
   "outputs": [],
   "source": []
  },
  {
   "cell_type": "code",
   "execution_count": 113,
   "metadata": {},
   "outputs": [
    {
     "data": {
      "text/plain": [
       "array([[0.66892901, 0.6059491 , 0.7175283 , 0.36405083],\n",
       "       [1.17910382, 0.64278252, 1.11221531, 0.52566966],\n",
       "       [0.25385315, 0.25478038, 0.28433385, 0.16017147],\n",
       "       [0.80389113, 0.43259556, 0.72466159, 0.20305528]])"
      ]
     },
     "execution_count": 113,
     "metadata": {},
     "output_type": "execute_result"
    }
   ],
   "source": [
    "a@b # @ is the mat mul"
   ]
  },
  {
   "cell_type": "code",
   "execution_count": null,
   "metadata": {},
   "outputs": [],
   "source": []
  },
  {
   "cell_type": "code",
   "execution_count": 117,
   "metadata": {},
   "outputs": [
    {
     "name": "stdout",
     "output_type": "stream",
     "text": [
      "[[0.18386579 0.81106307 0.67171155]\n",
      " [0.33376569 0.25455575 0.48557205]\n",
      " [0.51590169 0.14151379 0.46122121]\n",
      " [0.45869678 0.79142243 0.77481542]]\n",
      "[0.18386579 0.81106307 0.67171155 0.33376569 0.25455575 0.48557205\n",
      " 0.51590169 0.14151379 0.46122121 0.45869678 0.79142243 0.77481542]\n",
      "[[0.18386579 0.81106307 0.67171155 0.33376569]\n",
      " [0.25455575 0.48557205 0.51590169 0.14151379]\n",
      " [0.46122121 0.45869678 0.79142243 0.77481542]]\n"
     ]
    }
   ],
   "source": [
    "a = np.random.rand(4, 3)\n",
    "print(a)\n",
    "b = a.flatten()\n",
    "print(b)\n",
    "c = b.reshape((3, 4))\n",
    "print(c)"
   ]
  },
  {
   "cell_type": "code",
   "execution_count": 118,
   "metadata": {},
   "outputs": [
    {
     "data": {
      "text/plain": [
       "0.9616861901767916"
      ]
     },
     "execution_count": 118,
     "metadata": {},
     "output_type": "execute_result"
    }
   ],
   "source": [
    "a = np.random.rand(4)\n",
    "b = np.random.rand(4)\n",
    "np.sum(a*b)"
   ]
  },
  {
   "cell_type": "markdown",
   "metadata": {},
   "source": [
    "# Broadcast\n",
    "\n"
   ]
  },
  {
   "cell_type": "code",
   "execution_count": 123,
   "metadata": {},
   "outputs": [
    {
     "name": "stdout",
     "output_type": "stream",
     "text": [
      "[[0. 0. 0.]\n",
      " [1. 0. 0.]\n",
      " [2. 0. 0.]\n",
      " [3. 0. 0.]\n",
      " [4. 0. 0.]\n",
      " [5. 0. 0.]\n",
      " [6. 0. 0.]\n",
      " [7. 0. 0.]\n",
      " [8. 0. 0.]\n",
      " [9. 0. 0.]]\n"
     ]
    }
   ],
   "source": [
    "a = np.zeros((10, 3))\n",
    "a[:,0] = np.arange(10)\n",
    "print(a)"
   ]
  },
  {
   "cell_type": "code",
   "execution_count": 126,
   "metadata": {},
   "outputs": [
    {
     "name": "stdout",
     "output_type": "stream",
     "text": [
      "(1,)\n"
     ]
    },
    {
     "data": {
      "text/plain": [
       "array([[0., 1., 0.],\n",
       "       [1., 1., 0.],\n",
       "       [2., 1., 0.],\n",
       "       [3., 1., 0.],\n",
       "       [4., 1., 0.],\n",
       "       [5., 1., 0.],\n",
       "       [6., 1., 0.],\n",
       "       [7., 1., 0.],\n",
       "       [8., 1., 0.],\n",
       "       [9., 1., 0.]])"
      ]
     },
     "execution_count": 126,
     "metadata": {},
     "output_type": "execute_result"
    }
   ],
   "source": [
    "b = np.array([1])\n",
    "print(b.shape)\n",
    "a[:,1] = b\n",
    "a"
   ]
  },
  {
   "cell_type": "code",
   "execution_count": 128,
   "metadata": {},
   "outputs": [
    {
     "data": {
      "text/plain": [
       "array([[2., 2., 2.],\n",
       "       [2., 2., 2.],\n",
       "       [2., 2., 2.],\n",
       "       [2., 2., 2.],\n",
       "       [2., 2., 2.],\n",
       "       [2., 2., 2.],\n",
       "       [2., 2., 2.],\n",
       "       [2., 2., 2.],\n",
       "       [2., 2., 2.],\n",
       "       [2., 2., 2.]])"
      ]
     },
     "execution_count": 128,
     "metadata": {},
     "output_type": "execute_result"
    }
   ],
   "source": [
    "a = np.zeros((10, 3))\n",
    "a[:,:] = 2\n",
    "a"
   ]
  },
  {
   "cell_type": "code",
   "execution_count": 131,
   "metadata": {},
   "outputs": [
    {
     "name": "stdout",
     "output_type": "stream",
     "text": [
      "[[1 3 5]]\n",
      "(1, 3)\n"
     ]
    },
    {
     "data": {
      "text/plain": [
       "array([[1., 3., 5.],\n",
       "       [1., 3., 5.],\n",
       "       [1., 3., 5.],\n",
       "       [1., 3., 5.],\n",
       "       [1., 3., 5.],\n",
       "       [1., 3., 5.],\n",
       "       [1., 3., 5.],\n",
       "       [1., 3., 5.],\n",
       "       [1., 3., 5.],\n",
       "       [1., 3., 5.]])"
      ]
     },
     "execution_count": 131,
     "metadata": {},
     "output_type": "execute_result"
    }
   ],
   "source": [
    "b = np.array([[1, 3, 5]])\n",
    "print(b)\n",
    "print(b.shape)\n",
    "a[:,:] = b\n",
    "a"
   ]
  },
  {
   "cell_type": "code",
   "execution_count": 132,
   "metadata": {},
   "outputs": [
    {
     "name": "stdout",
     "output_type": "stream",
     "text": [
      "[[0.1857228  0.8657378  0.88639247]\n",
      " [0.61473724 0.51612081 0.58622219]\n",
      " [0.85545688 0.94000242 0.81845709]\n",
      " [0.88842211 0.13207702 0.54177449]\n",
      " [0.01157231 0.79925325 0.19085829]\n",
      " [0.59656501 0.22916911 0.03490096]\n",
      " [0.02610431 0.75774067 0.4661917 ]\n",
      " [0.66764196 0.33934076 0.55471736]\n",
      " [0.34523164 0.67076264 0.77540991]\n",
      " [0.88153058 0.46358648 0.56571332]]\n",
      "[[1 3 5]]\n"
     ]
    }
   ],
   "source": [
    "a = np.random.rand(10, 3)\n",
    "print(a)\n",
    "print(b)\n"
   ]
  },
  {
   "cell_type": "code",
   "execution_count": 133,
   "metadata": {},
   "outputs": [
    {
     "data": {
      "text/plain": [
       "array([[1.1857228 , 3.8657378 , 5.88639247],\n",
       "       [1.61473724, 3.51612081, 5.58622219],\n",
       "       [1.85545688, 3.94000242, 5.81845709],\n",
       "       [1.88842211, 3.13207702, 5.54177449],\n",
       "       [1.01157231, 3.79925325, 5.19085829],\n",
       "       [1.59656501, 3.22916911, 5.03490096],\n",
       "       [1.02610431, 3.75774067, 5.4661917 ],\n",
       "       [1.66764196, 3.33934076, 5.55471736],\n",
       "       [1.34523164, 3.67076264, 5.77540991],\n",
       "       [1.88153058, 3.46358648, 5.56571332]])"
      ]
     },
     "execution_count": 133,
     "metadata": {},
     "output_type": "execute_result"
    }
   ],
   "source": [
    "a + b"
   ]
  },
  {
   "cell_type": "code",
   "execution_count": 134,
   "metadata": {},
   "outputs": [
    {
     "ename": "ValueError",
     "evalue": "operands could not be broadcast together with shapes (10,5) (1,3) ",
     "output_type": "error",
     "traceback": [
      "\u001b[0;31m---------------------------------------------------------------------------\u001b[0m",
      "\u001b[0;31mValueError\u001b[0m                                Traceback (most recent call last)",
      "\u001b[0;32m<ipython-input-134-f16b825fcabb>\u001b[0m in \u001b[0;36m<module>\u001b[0;34m\u001b[0m\n\u001b[0;32m----> 1\u001b[0;31m \u001b[0mnp\u001b[0m\u001b[0;34m.\u001b[0m\u001b[0mrandom\u001b[0m\u001b[0;34m.\u001b[0m\u001b[0mrand\u001b[0m\u001b[0;34m(\u001b[0m\u001b[0;36m10\u001b[0m\u001b[0;34m,\u001b[0m \u001b[0;36m5\u001b[0m\u001b[0;34m)\u001b[0m \u001b[0;34m+\u001b[0m \u001b[0mb\u001b[0m\u001b[0;34m\u001b[0m\u001b[0;34m\u001b[0m\u001b[0m\n\u001b[0m",
      "\u001b[0;31mValueError\u001b[0m: operands could not be broadcast together with shapes (10,5) (1,3) "
     ]
    }
   ],
   "source": [
    "np.random.rand(10, 5) + b"
   ]
  },
  {
   "cell_type": "code",
   "execution_count": null,
   "metadata": {},
   "outputs": [],
   "source": []
  },
  {
   "cell_type": "code",
   "execution_count": 146,
   "metadata": {},
   "outputs": [
    {
     "data": {
      "text/plain": [
       "0.0"
      ]
     },
     "execution_count": 146,
     "metadata": {},
     "output_type": "execute_result"
    }
   ],
   "source": [
    "np.nan # Not a number\n",
    "\n",
    "a = np.zeros(10)\n",
    "a[2] = np.nan\n",
    "a[~np.isnan(a)].min()"
   ]
  },
  {
   "cell_type": "code",
   "execution_count": 141,
   "metadata": {},
   "outputs": [
    {
     "data": {
      "text/plain": [
       "nan"
      ]
     },
     "execution_count": 141,
     "metadata": {},
     "output_type": "execute_result"
    }
   ],
   "source": [
    "np.inf - np.inf"
   ]
  },
  {
   "cell_type": "markdown",
   "metadata": {},
   "source": [
    "### Array of booleans"
   ]
  },
  {
   "cell_type": "code",
   "execution_count": 150,
   "metadata": {},
   "outputs": [
    {
     "data": {
      "text/plain": [
       "array([False,  True, False, False])"
      ]
     },
     "execution_count": 150,
     "metadata": {},
     "output_type": "execute_result"
    }
   ],
   "source": [
    "a = np.array([True, False, True, True])\n",
    "b = np.array([False, True, True, False])\n",
    "\n",
    "# a and b\n",
    "a&b\n",
    "a|b\n",
    "~a"
   ]
  },
  {
   "cell_type": "code",
   "execution_count": null,
   "metadata": {},
   "outputs": [],
   "source": []
  },
  {
   "cell_type": "markdown",
   "metadata": {},
   "source": [
    "## getitem et setitem\n",
    "* indices\n",
    "* slices\n",
    "* tableaux booléens"
   ]
  },
  {
   "cell_type": "code",
   "execution_count": null,
   "metadata": {
    "collapsed": true
   },
   "outputs": [],
   "source": []
  },
  {
   "cell_type": "markdown",
   "metadata": {},
   "source": [
    "## Saving/reading Numpy array\n",
    "* ASCII\n",
    "* Binary"
   ]
  },
  {
   "cell_type": "code",
   "execution_count": 152,
   "metadata": {},
   "outputs": [],
   "source": [
    "a = np.random.rand(100, 3)\n",
    "#a"
   ]
  },
  {
   "cell_type": "code",
   "execution_count": 155,
   "metadata": {},
   "outputs": [],
   "source": [
    "np.savetxt('data.txt', a)"
   ]
  },
  {
   "cell_type": "code",
   "execution_count": 156,
   "metadata": {},
   "outputs": [
    {
     "data": {
      "text/plain": [
       "array([[ 1.,  1.],\n",
       "       [ 2.,  8.],\n",
       "       [ 3., 65.],\n",
       "       [ 4., 48.],\n",
       "       [87., 34.],\n",
       "       [64., 79.]])"
      ]
     },
     "execution_count": 156,
     "metadata": {},
     "output_type": "execute_result"
    }
   ],
   "source": [
    "np.loadtxt('data_from_libre_office.csv')"
   ]
  },
  {
   "cell_type": "code",
   "execution_count": 158,
   "metadata": {},
   "outputs": [],
   "source": [
    "a = np.random.rand(100000, 10)\n",
    "np.savetxt('data.txt', a)"
   ]
  },
  {
   "cell_type": "code",
   "execution_count": 160,
   "metadata": {},
   "outputs": [
    {
     "name": "stdout",
     "output_type": "stream",
     "text": [
      "1.46 s ± 37.9 ms per loop (mean ± std. dev. of 7 runs, 1 loop each)\n"
     ]
    }
   ],
   "source": [
    "%timeit b = np.loadtxt('data.txt')"
   ]
  },
  {
   "cell_type": "code",
   "execution_count": 161,
   "metadata": {},
   "outputs": [],
   "source": [
    "np.save('data.npy', a)"
   ]
  },
  {
   "cell_type": "code",
   "execution_count": 163,
   "metadata": {},
   "outputs": [
    {
     "name": "stdout",
     "output_type": "stream",
     "text": [
      "1.72 ms ± 95.2 µs per loop (mean ± std. dev. of 7 runs, 100 loops each)\n"
     ]
    }
   ],
   "source": [
    "%timeit np.load('data.npy')"
   ]
  },
  {
   "cell_type": "code",
   "execution_count": null,
   "metadata": {},
   "outputs": [],
   "source": []
  },
  {
   "cell_type": "code",
   "execution_count": 164,
   "metadata": {},
   "outputs": [],
   "source": [
    "np.loadtxt?"
   ]
  },
  {
   "cell_type": "code",
   "execution_count": null,
   "metadata": {
    "collapsed": true
   },
   "outputs": [],
   "source": []
  },
  {
   "cell_type": "markdown",
   "metadata": {},
   "source": [
    "## Inside numpy array\n",
    "* data, shape, strides\n",
    "* Broadcast"
   ]
  },
  {
   "cell_type": "code",
   "execution_count": 165,
   "metadata": {},
   "outputs": [
    {
     "data": {
      "text/plain": [
       "array([[0.70197568, 0.70748654, 0.43534272],\n",
       "       [0.49678466, 0.57943017, 0.29520811],\n",
       "       [0.78312205, 0.55505477, 0.94969496],\n",
       "       [0.07338996, 0.230477  , 0.27237685],\n",
       "       [0.97278602, 0.82574418, 0.03504461],\n",
       "       [0.50985585, 0.31473913, 0.04706933],\n",
       "       [0.77274695, 0.99936277, 0.5852463 ],\n",
       "       [0.54224514, 0.65118871, 0.95375586]])"
      ]
     },
     "execution_count": 165,
     "metadata": {},
     "output_type": "execute_result"
    }
   ],
   "source": [
    "a = np.random.rand(8, 3)\n",
    "a"
   ]
  },
  {
   "cell_type": "code",
   "execution_count": 166,
   "metadata": {},
   "outputs": [
    {
     "data": {
      "text/plain": [
       "(24, 8)"
      ]
     },
     "execution_count": 166,
     "metadata": {},
     "output_type": "execute_result"
    }
   ],
   "source": [
    "a.strides # a[i, j]"
   ]
  },
  {
   "cell_type": "code",
   "execution_count": 170,
   "metadata": {},
   "outputs": [
    {
     "name": "stdout",
     "output_type": "stream",
     "text": [
      "(24,)\n"
     ]
    },
    {
     "data": {
      "text/plain": [
       "(8,)"
      ]
     },
     "execution_count": 170,
     "metadata": {},
     "output_type": "execute_result"
    }
   ],
   "source": [
    "b = a[:,2]\n",
    "print(b.strides)\n",
    "\n",
    "np.random.rand(4).strides"
   ]
  },
  {
   "cell_type": "code",
   "execution_count": 171,
   "metadata": {},
   "outputs": [
    {
     "data": {
      "text/plain": [
       "array([[7.01975678e-01, 7.07486539e-01, 4.35342721e-01],\n",
       "       [4.96784659e-01, 5.79430170e-01, 2.95208108e-01],\n",
       "       [7.83122047e-01, 5.55054767e-01, 1.00000000e+02],\n",
       "       [7.33899592e-02, 2.30476999e-01, 2.72376855e-01],\n",
       "       [9.72786017e-01, 8.25744177e-01, 3.50446090e-02],\n",
       "       [5.09855854e-01, 3.14739130e-01, 4.70693337e-02],\n",
       "       [7.72746946e-01, 9.99362770e-01, 5.85246299e-01],\n",
       "       [5.42245141e-01, 6.51188709e-01, 9.53755858e-01]])"
      ]
     },
     "execution_count": 171,
     "metadata": {},
     "output_type": "execute_result"
    }
   ],
   "source": [
    "b[2] = 100\n",
    "a"
   ]
  },
  {
   "cell_type": "code",
   "execution_count": null,
   "metadata": {},
   "outputs": [],
   "source": []
  }
 ],
 "metadata": {
  "anaconda-cloud": {},
  "kernelspec": {
   "display_name": "Python 3",
   "language": "python",
   "name": "python3"
  },
  "language_info": {
   "codemirror_mode": {
    "name": "ipython",
    "version": 3
   },
   "file_extension": ".py",
   "mimetype": "text/x-python",
   "name": "python",
   "nbconvert_exporter": "python",
   "pygments_lexer": "ipython3",
   "version": "3.7.4"
  }
 },
 "nbformat": 4,
 "nbformat_minor": 1
}
