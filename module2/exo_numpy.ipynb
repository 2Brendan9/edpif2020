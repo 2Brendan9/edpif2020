{
 "cells": [
  {
   "cell_type": "code",
   "execution_count": 1,
   "metadata": {},
   "outputs": [],
   "source": [
    "import numpy as np\n"
   ]
  },
  {
   "cell_type": "code",
   "execution_count": 3,
   "metadata": {},
   "outputs": [
    {
     "name": "stdout",
     "output_type": "stream",
     "text": [
      "299 ms ± 13.9 ms per loop (mean ± std. dev. of 7 runs, 1 loop each)\n"
     ]
    }
   ],
   "source": [
    "%timeit my_list = [i**2 for i in range(1000000)]"
   ]
  },
  {
   "cell_type": "code",
   "execution_count": 7,
   "metadata": {},
   "outputs": [
    {
     "name": "stdout",
     "output_type": "stream",
     "text": [
      "344 ms ± 32.3 ms per loop (mean ± std. dev. of 7 runs, 1 loop each)\n"
     ]
    }
   ],
   "source": [
    "%%timeit\n",
    "\n",
    "out = []\n",
    "for i in range(1000000):\n",
    "    out.append(i**2)"
   ]
  },
  {
   "cell_type": "code",
   "execution_count": 5,
   "metadata": {},
   "outputs": [
    {
     "name": "stdout",
     "output_type": "stream",
     "text": [
      "2.31 ms ± 437 µs per loop (mean ± std. dev. of 7 runs, 1 loop each)\n"
     ]
    }
   ],
   "source": [
    "%timeit a = np.arange(1000000)**2"
   ]
  },
  {
   "cell_type": "code",
   "execution_count": 8,
   "metadata": {},
   "outputs": [],
   "source": [
    "## 1.2"
   ]
  },
  {
   "cell_type": "code",
   "execution_count": 11,
   "metadata": {},
   "outputs": [
    {
     "name": "stdout",
     "output_type": "stream",
     "text": [
      "3.1415926535897927\n",
      "3.141592653589793\n"
     ]
    }
   ],
   "source": [
    "k = np.arange(40)\n",
    "\n",
    "print(np.sum((-1)**k/(3**k*(2*k+1)))*np.sqrt(12))\n",
    "print(np.pi)"
   ]
  },
  {
   "cell_type": "code",
   "execution_count": 17,
   "metadata": {},
   "outputs": [
    {
     "data": {
      "text/plain": [
       "0.9767250264647013"
      ]
     },
     "execution_count": 17,
     "metadata": {},
     "output_type": "execute_result"
    }
   ],
   "source": [
    "# 1.3 Allan variance\n",
    "\n",
    "y = np.random.normal(size=10000)\n",
    "\n",
    "# let us call z : y_{k+1} - y_k\n",
    "# z[0] = y[1] - y[0]\n",
    "# z[1] = y[2] - y[1]\n",
    "# ...\n",
    "# z = a - b\n",
    "# a = [y[1], y[2], ... y[-1]]\n",
    "# b = [y[0], y[1], ... y[-2]]\n",
    "\n",
    "# a = y[1:]\n",
    "# b = y[:-1]\n",
    "# z = b-a\n",
    "# 0.5*np.mean(z**2)\n",
    "\n",
    "0.5*np.mean((y[1:] - y[:-1])**2)\n",
    "    "
   ]
  },
  {
   "cell_type": "code",
   "execution_count": 19,
   "metadata": {},
   "outputs": [
    {
     "data": {
      "text/plain": [
       "0.9767250264647013"
      ]
     },
     "execution_count": 19,
     "metadata": {},
     "output_type": "execute_result"
    }
   ],
   "source": [
    "0.5*np.mean(np.diff(y)**2)"
   ]
  },
  {
   "cell_type": "code",
   "execution_count": 28,
   "metadata": {},
   "outputs": [],
   "source": [
    "def _allan_variance(y):\n",
    "    \"\"\" Calculate the allan variance of y\"\"\"\n",
    "    return 0.5*np.mean(np.diff(y)**2)"
   ]
  },
  {
   "cell_type": "code",
   "execution_count": 24,
   "metadata": {},
   "outputs": [
    {
     "data": {
      "text/plain": [
       "array([0.5, 2.5, 4.5, 6.5, 8.5])"
      ]
     },
     "execution_count": 24,
     "metadata": {},
     "output_type": "execute_result"
    }
   ],
   "source": [
    "data = np.arange(10)\n",
    "data = data.reshape((5, 2))\n",
    "data.mean(axis=1)"
   ]
  },
  {
   "cell_type": "code",
   "execution_count": 27,
   "metadata": {},
   "outputs": [
    {
     "data": {
      "text/plain": [
       "array([ 3.,  8., 13., 18., 23., 28., 33., 38., 43., 48., 53., 58., 63.,\n",
       "       68., 73., 78., 83., 88., 93., 98.])"
      ]
     },
     "execution_count": 27,
     "metadata": {},
     "output_type": "execute_result"
    }
   ],
   "source": [
    "def average_frequency(data, n):\n",
    "    N = len(data)\n",
    "    data = data[N%n:]\n",
    "    data = data.reshape((N//n, n))\n",
    "    return data.mean(axis=1)\n",
    "\n",
    "average_frequency(np.arange(101), 5)"
   ]
  },
  {
   "cell_type": "code",
   "execution_count": 29,
   "metadata": {},
   "outputs": [],
   "source": [
    "def allan_variance(data, n):\n",
    "    return _allan_variance(average_frequency(data, n))"
   ]
  },
  {
   "cell_type": "code",
   "execution_count": 30,
   "metadata": {},
   "outputs": [
    {
     "data": {
      "text/plain": [
       "0.10150166128478959"
      ]
     },
     "execution_count": 30,
     "metadata": {},
     "output_type": "execute_result"
    }
   ],
   "source": [
    "allan_variance(y, 10)"
   ]
  },
  {
   "cell_type": "code",
   "execution_count": null,
   "metadata": {},
   "outputs": [],
   "source": []
  },
  {
   "cell_type": "markdown",
   "metadata": {},
   "source": [
    "# Bode plot"
   ]
  },
  {
   "cell_type": "code",
   "execution_count": 31,
   "metadata": {},
   "outputs": [],
   "source": [
    "def H(omega, omega_0, zeta):\n",
    "    return omega_0**2/(omega_0**2 - omega**2  + 2J*zeta*omega*omega_0)\n"
   ]
  },
  {
   "cell_type": "code",
   "execution_count": 32,
   "metadata": {},
   "outputs": [],
   "source": [
    "%matplotlib inline\n",
    "from matplotlib.pyplot import figure"
   ]
  },
  {
   "cell_type": "code",
   "execution_count": null,
   "metadata": {},
   "outputs": [],
   "source": []
  },
  {
   "cell_type": "code",
   "execution_count": 46,
   "metadata": {},
   "outputs": [
    {
     "data": {
      "image/png": "[encoded data removed]",
      "text/plain": [
       "<Figure size 432x288 with 2 Axes>"
      ]
     },
     "metadata": {
      "needs_background": "light"
     },
     "output_type": "display_data"
    }
   ],
   "source": [
    "fig = figure()\n",
    "ax1, ax2 = fig.subplots(2, 1)\n",
    "\n",
    "freq = np.logspace(2, 4, 201)\n",
    "omega_0 = 2*np.pi*1E3\n",
    "zeta = 0.1\n",
    "y = H(2*np.pi*freq, omega_0, zeta)\n",
    "\n",
    "ax1.loglog(freq, np.abs(y))\n",
    "ax1.set_ylabel('Amplitude')\n",
    "ax1.grid(which='both')\n",
    "\n",
    "phase = np.angle(y)\n",
    "ax2.semilogx(freq, phase*180/np.pi)\n",
    "ax2.set_ylabel('Phase [°]')\n",
    "ax2.set_xlabel('Frequency (Hz)')\n",
    "ax2.grid(which='both')\n",
    "\n",
    "ax1.set_title(fr'Damped oscillator ($\\omega_0/2\\pi={omega_0/(2*np.pi):.3f}$Hz and $\\zeta={zeta:.3f}$)');"
   ]
  },
  {
   "cell_type": "markdown",
   "metadata": {},
   "source": [
    "## Measurment of pi"
   ]
  },
  {
   "cell_type": "code",
   "execution_count": 54,
   "metadata": {},
   "outputs": [
    {
     "data": {
      "image/png": "[encoded data removed]",
      "text/plain": [
       "<Figure size 432x288 with 1 Axes>"
      ]
     },
     "metadata": {
      "needs_background": "light"
     },
     "output_type": "display_data"
    }
   ],
   "source": [
    "N = 1000\n",
    "X = np.random.rand(N)*2-1\n",
    "Y = np.random.rand(N)*2-1\n",
    "\n",
    "fig = figure()\n",
    "ax = fig.subplots(1, 1)\n",
    "\n",
    "ax.plot(X, Y, 'o')\n",
    "\n",
    "theta = np.linspace(0, 2*np.pi)\n",
    "ax.plot(np.cos(theta), np.sin(theta), 'k')\n",
    "\n",
    "R_square = X**2 + Y**2\n",
    "mask = R_square<1\n",
    "\n",
    "ax.plot(X[mask], Y[mask], 'o')\n",
    "ax.set_aspect(1)"
   ]
  },
  {
   "cell_type": "code",
   "execution_count": 55,
   "metadata": {},
   "outputs": [
    {
     "data": {
      "text/plain": [
       "775"
      ]
     },
     "execution_count": 55,
     "metadata": {},
     "output_type": "execute_result"
    }
   ],
   "source": [
    "np.sum(mask)"
   ]
  },
  {
   "cell_type": "code",
   "execution_count": 57,
   "metadata": {},
   "outputs": [
    {
     "name": "stdout",
     "output_type": "stream",
     "text": [
      "3.1419348\n"
     ]
    }
   ],
   "source": [
    "N = 10000000\n",
    "X = np.random.rand(N)*2-1\n",
    "Y = np.random.rand(N)*2-1\n",
    "\n",
    "R_square = X**2 + Y**2\n",
    "mask = R_square<1\n",
    "\n",
    "print(np.mean(mask)*4)"
   ]
  },
  {
   "cell_type": "code",
   "execution_count": null,
   "metadata": {},
   "outputs": [],
   "source": []
  }
 ],
 "metadata": {
  "kernelspec": {
   "display_name": "Python 3",
   "language": "python",
   "name": "python3"
  },
  "language_info": {
   "codemirror_mode": {
    "name": "ipython",
    "version": 3
   },
   "file_extension": ".py",
   "mimetype": "text/x-python",
   "name": "python",
   "nbconvert_exporter": "python",
   "pygments_lexer": "ipython3",
   "version": "3.7.4"
  }
 },
 "nbformat": 4,
 "nbformat_minor": 2
}
